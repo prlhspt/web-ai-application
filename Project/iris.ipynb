{
 "cells": [
  {
   "cell_type": "markdown",
   "metadata": {},
   "source": [
    "# Iris 분류"
   ]
  },
  {
   "cell_type": "code",
   "execution_count": 1,
   "metadata": {},
   "outputs": [],
   "source": [
    "import numpy as np\n",
    "import pandas as pd\n",
    "import warnings\n",
    "warnings.filterwarnings('ignore')"
   ]
  },
  {
   "cell_type": "code",
   "execution_count": 2,
   "metadata": {},
   "outputs": [],
   "source": [
    "from sklearn.datasets import load_iris\n",
    "iris = load_iris()"
   ]
  },
  {
   "cell_type": "code",
   "execution_count": 3,
   "metadata": {},
   "outputs": [
    {
     "data": {
      "text/html": [
       "<div>\n",
       "<style scoped>\n",
       "    .dataframe tbody tr th:only-of-type {\n",
       "        vertical-align: middle;\n",
       "    }\n",
       "\n",
       "    .dataframe tbody tr th {\n",
       "        vertical-align: top;\n",
       "    }\n",
       "\n",
       "    .dataframe thead th {\n",
       "        text-align: right;\n",
       "    }\n",
       "</style>\n",
       "<table border=\"1\" class=\"dataframe\">\n",
       "  <thead>\n",
       "    <tr style=\"text-align: right;\">\n",
       "      <th></th>\n",
       "      <th>sepal length (cm)</th>\n",
       "      <th>sepal width (cm)</th>\n",
       "      <th>petal length (cm)</th>\n",
       "      <th>petal width (cm)</th>\n",
       "    </tr>\n",
       "  </thead>\n",
       "  <tbody>\n",
       "    <tr>\n",
       "      <th>0</th>\n",
       "      <td>5.1</td>\n",
       "      <td>3.5</td>\n",
       "      <td>1.4</td>\n",
       "      <td>0.2</td>\n",
       "    </tr>\n",
       "    <tr>\n",
       "      <th>1</th>\n",
       "      <td>4.9</td>\n",
       "      <td>3.0</td>\n",
       "      <td>1.4</td>\n",
       "      <td>0.2</td>\n",
       "    </tr>\n",
       "    <tr>\n",
       "      <th>2</th>\n",
       "      <td>4.7</td>\n",
       "      <td>3.2</td>\n",
       "      <td>1.3</td>\n",
       "      <td>0.2</td>\n",
       "    </tr>\n",
       "    <tr>\n",
       "      <th>3</th>\n",
       "      <td>4.6</td>\n",
       "      <td>3.1</td>\n",
       "      <td>1.5</td>\n",
       "      <td>0.2</td>\n",
       "    </tr>\n",
       "    <tr>\n",
       "      <th>4</th>\n",
       "      <td>5.0</td>\n",
       "      <td>3.6</td>\n",
       "      <td>1.4</td>\n",
       "      <td>0.2</td>\n",
       "    </tr>\n",
       "  </tbody>\n",
       "</table>\n",
       "</div>"
      ],
      "text/plain": [
       "   sepal length (cm)  sepal width (cm)  petal length (cm)  petal width (cm)\n",
       "0                5.1               3.5                1.4               0.2\n",
       "1                4.9               3.0                1.4               0.2\n",
       "2                4.7               3.2                1.3               0.2\n",
       "3                4.6               3.1                1.5               0.2\n",
       "4                5.0               3.6                1.4               0.2"
      ]
     },
     "execution_count": 3,
     "metadata": {},
     "output_type": "execute_result"
    }
   ],
   "source": [
    "# data, target, target_names, feature_names, DESCR\n",
    "data = iris.data\n",
    "label = iris.target\n",
    "columns = iris.feature_names\n",
    "df = pd.DataFrame(data, columns=columns)\n",
    "df.head()"
   ]
  },
  {
   "cell_type": "code",
   "execution_count": 4,
   "metadata": {},
   "outputs": [],
   "source": [
    "from sklearn.model_selection import train_test_split\n",
    "x_train, x_test, y_train, y_test = \\\n",
    "    train_test_split(data, label, test_size=0.2, \n",
    "                     shuffle=True, stratify=label, random_state=2019)"
   ]
  },
  {
   "cell_type": "markdown",
   "metadata": {},
   "source": [
    "### Logistic Regression"
   ]
  },
  {
   "cell_type": "markdown",
   "metadata": {},
   "source": [
    "- 모델 객체 생성"
   ]
  },
  {
   "cell_type": "code",
   "execution_count": 5,
   "metadata": {},
   "outputs": [],
   "source": [
    "from sklearn.linear_model import LogisticRegression\n",
    "lr = LogisticRegression(verbose=1)"
   ]
  },
  {
   "cell_type": "markdown",
   "metadata": {},
   "source": [
    "- 모델 학습"
   ]
  },
  {
   "cell_type": "code",
   "execution_count": 6,
   "metadata": {},
   "outputs": [
    {
     "name": "stderr",
     "output_type": "stream",
     "text": [
      "[Parallel(n_jobs=1)]: Using backend SequentialBackend with 1 concurrent workers.\n",
      "[Parallel(n_jobs=1)]: Done   1 out of   1 | elapsed:    0.0s finished\n"
     ]
    },
    {
     "data": {
      "text/plain": [
       "LogisticRegression(verbose=1)"
      ]
     },
     "execution_count": 6,
     "metadata": {},
     "output_type": "execute_result"
    }
   ],
   "source": [
    "lr.fit(x_train, y_train)"
   ]
  },
  {
   "cell_type": "markdown",
   "metadata": {},
   "source": [
    "- 학습한 결과를 저장"
   ]
  },
  {
   "cell_type": "code",
   "execution_count": 7,
   "metadata": {},
   "outputs": [
    {
     "data": {
      "text/plain": [
       "['model/iris_lr.pkl']"
      ]
     },
     "execution_count": 7,
     "metadata": {},
     "output_type": "execute_result"
    }
   ],
   "source": [
    "import joblib\n",
    "joblib.dump(lr, 'model/iris_lr.pkl')"
   ]
  },
  {
   "cell_type": "markdown",
   "metadata": {},
   "source": [
    "### Support Vector Machine"
   ]
  },
  {
   "cell_type": "code",
   "execution_count": 8,
   "metadata": {},
   "outputs": [],
   "source": [
    "from sklearn.svm import SVC\n",
    "svc = SVC()"
   ]
  },
  {
   "cell_type": "code",
   "execution_count": 9,
   "metadata": {},
   "outputs": [
    {
     "data": {
      "text/plain": [
       "SVC()"
      ]
     },
     "execution_count": 9,
     "metadata": {},
     "output_type": "execute_result"
    }
   ],
   "source": [
    "svc.fit(x_train, y_train)"
   ]
  },
  {
   "cell_type": "code",
   "execution_count": 16,
   "metadata": {},
   "outputs": [
    {
     "data": {
      "text/plain": [
       "['model/iris_svm.pkl']"
      ]
     },
     "execution_count": 16,
     "metadata": {},
     "output_type": "execute_result"
    }
   ],
   "source": [
    "joblib.dump(svc, 'model/iris_svm.pkl')"
   ]
  },
  {
   "cell_type": "markdown",
   "metadata": {},
   "source": [
    "### Decision Tree"
   ]
  },
  {
   "cell_type": "code",
   "execution_count": 11,
   "metadata": {},
   "outputs": [],
   "source": [
    "from sklearn.tree import DecisionTreeClassifier\n",
    "dtc = DecisionTreeClassifier()"
   ]
  },
  {
   "cell_type": "code",
   "execution_count": 12,
   "metadata": {},
   "outputs": [
    {
     "data": {
      "text/plain": [
       "DecisionTreeClassifier()"
      ]
     },
     "execution_count": 12,
     "metadata": {},
     "output_type": "execute_result"
    }
   ],
   "source": [
    "dtc.fit(x_train, y_train)"
   ]
  },
  {
   "cell_type": "code",
   "execution_count": 17,
   "metadata": {},
   "outputs": [
    {
     "data": {
      "text/plain": [
       "['model/iris_dt.pkl']"
      ]
     },
     "execution_count": 17,
     "metadata": {},
     "output_type": "execute_result"
    }
   ],
   "source": [
    "joblib.dump(dtc, 'model/iris_dt.pkl')"
   ]
  },
  {
   "cell_type": "markdown",
   "metadata": {},
   "source": [
    "### 저장된 모델로 정확도 산출"
   ]
  },
  {
   "cell_type": "code",
   "execution_count": 18,
   "metadata": {},
   "outputs": [],
   "source": [
    "model_lr = joblib.load('model/iris_lr.pkl')\n",
    "model_svm = joblib.load('model/iris_svm.pkl')\n",
    "model_dt = joblib.load('model/iris_dt.pkl')"
   ]
  },
  {
   "cell_type": "code",
   "execution_count": 19,
   "metadata": {},
   "outputs": [],
   "source": [
    "y_pred_lr = model_lr.predict(x_test)\n",
    "y_pred_svm = model_svm.predict(x_test)\n",
    "y_pred_dt = model_dt.predict(x_test)"
   ]
  },
  {
   "cell_type": "code",
   "execution_count": 21,
   "metadata": {},
   "outputs": [
    {
     "name": "stdout",
     "output_type": "stream",
     "text": [
      "0.9666666666666667 0.9666666666666667 0.9666666666666667\n"
     ]
    }
   ],
   "source": [
    "from sklearn.metrics import accuracy_score\n",
    "acc_lr = accuracy_score(y_test, y_pred_lr)\n",
    "acc_svm = accuracy_score(y_test, y_pred_svm)\n",
    "acc_dt = accuracy_score(y_test, y_pred_dt)\n",
    "print(acc_lr, acc_svm, acc_dt)"
   ]
  },
  {
   "cell_type": "markdown",
   "metadata": {},
   "source": [
    "### 한개의 테스트 값 예측"
   ]
  },
  {
   "cell_type": "code",
   "execution_count": 22,
   "metadata": {},
   "outputs": [
    {
     "data": {
      "text/html": [
       "<div>\n",
       "<style scoped>\n",
       "    .dataframe tbody tr th:only-of-type {\n",
       "        vertical-align: middle;\n",
       "    }\n",
       "\n",
       "    .dataframe tbody tr th {\n",
       "        vertical-align: top;\n",
       "    }\n",
       "\n",
       "    .dataframe thead th {\n",
       "        text-align: right;\n",
       "    }\n",
       "</style>\n",
       "<table border=\"1\" class=\"dataframe\">\n",
       "  <thead>\n",
       "    <tr style=\"text-align: right;\">\n",
       "      <th></th>\n",
       "      <th>sepal length (cm)</th>\n",
       "      <th>sepal width (cm)</th>\n",
       "      <th>petal length (cm)</th>\n",
       "      <th>petal width (cm)</th>\n",
       "    </tr>\n",
       "  </thead>\n",
       "  <tbody>\n",
       "    <tr>\n",
       "      <th>145</th>\n",
       "      <td>6.7</td>\n",
       "      <td>3.0</td>\n",
       "      <td>5.2</td>\n",
       "      <td>2.3</td>\n",
       "    </tr>\n",
       "    <tr>\n",
       "      <th>146</th>\n",
       "      <td>6.3</td>\n",
       "      <td>2.5</td>\n",
       "      <td>5.0</td>\n",
       "      <td>1.9</td>\n",
       "    </tr>\n",
       "    <tr>\n",
       "      <th>147</th>\n",
       "      <td>6.5</td>\n",
       "      <td>3.0</td>\n",
       "      <td>5.2</td>\n",
       "      <td>2.0</td>\n",
       "    </tr>\n",
       "    <tr>\n",
       "      <th>148</th>\n",
       "      <td>6.2</td>\n",
       "      <td>3.4</td>\n",
       "      <td>5.4</td>\n",
       "      <td>2.3</td>\n",
       "    </tr>\n",
       "    <tr>\n",
       "      <th>149</th>\n",
       "      <td>5.9</td>\n",
       "      <td>3.0</td>\n",
       "      <td>5.1</td>\n",
       "      <td>1.8</td>\n",
       "    </tr>\n",
       "  </tbody>\n",
       "</table>\n",
       "</div>"
      ],
      "text/plain": [
       "     sepal length (cm)  sepal width (cm)  petal length (cm)  petal width (cm)\n",
       "145                6.7               3.0                5.2               2.3\n",
       "146                6.3               2.5                5.0               1.9\n",
       "147                6.5               3.0                5.2               2.0\n",
       "148                6.2               3.4                5.4               2.3\n",
       "149                5.9               3.0                5.1               1.8"
      ]
     },
     "execution_count": 22,
     "metadata": {},
     "output_type": "execute_result"
    }
   ],
   "source": [
    "df.tail()"
   ]
  },
  {
   "cell_type": "code",
   "execution_count": 26,
   "metadata": {},
   "outputs": [],
   "source": [
    "test_data = np.array([6.7, 3.0, 5.2, 2.3]).reshape(1, 4)"
   ]
  },
  {
   "cell_type": "code",
   "execution_count": 29,
   "metadata": {},
   "outputs": [],
   "source": [
    "index_lr = model_lr.predict(test_data)[0]\n",
    "index_svm = model_svm.predict(test_data)[0]\n",
    "index_dt = model_dt.predict(test_data)[0]"
   ]
  },
  {
   "cell_type": "code",
   "execution_count": 30,
   "metadata": {},
   "outputs": [
    {
     "name": "stdout",
     "output_type": "stream",
     "text": [
      "Virginica Virginica Virginica\n"
     ]
    }
   ],
   "source": [
    "sp_names = ['Setosa', 'Versicolor', 'Virginica']\n",
    "print(sp_names[index_lr], sp_names[index_svm], sp_names[index_dt])"
   ]
  },
  {
   "cell_type": "markdown",
   "metadata": {},
   "source": [
    "## Deep Learning Model"
   ]
  },
  {
   "cell_type": "code",
   "execution_count": 32,
   "metadata": {},
   "outputs": [
    {
     "name": "stdout",
     "output_type": "stream",
     "text": [
      "Model: \"sequential_1\"\n",
      "_________________________________________________________________\n",
      "Layer (type)                 Output Shape              Param #   \n",
      "=================================================================\n",
      "dense_1 (Dense)              (None, 12)                60        \n",
      "_________________________________________________________________\n",
      "dense_2 (Dense)              (None, 8)                 104       \n",
      "_________________________________________________________________\n",
      "dense_3 (Dense)              (None, 3)                 27        \n",
      "=================================================================\n",
      "Total params: 191\n",
      "Trainable params: 191\n",
      "Non-trainable params: 0\n",
      "_________________________________________________________________\n"
     ]
    },
    {
     "name": "stderr",
     "output_type": "stream",
     "text": [
      "Using TensorFlow backend.\n"
     ]
    }
   ],
   "source": [
    "# 딥러닝 모델 설정\n",
    "from tensorflow import keras\n",
    "from keras.models import Sequential\n",
    "from keras.layers import Dense\n",
    "\n",
    "model = Sequential([\n",
    "    Dense(12, input_shape=(4,), activation='relu'),\n",
    "    Dense(8, input_shape=(4,), activation='relu'),\n",
    "    Dense(3, activation='softmax')\n",
    "])\n",
    "model.summary()"
   ]
  },
  {
   "cell_type": "code",
   "execution_count": 33,
   "metadata": {},
   "outputs": [],
   "source": [
    "# 모델 컴파일 \n",
    "model.compile(loss='categorical_crossentropy', \n",
    "              optimizer='adam',\n",
    "              metrics=['accuracy'])"
   ]
  },
  {
   "cell_type": "code",
   "execution_count": 35,
   "metadata": {},
   "outputs": [],
   "source": [
    "from keras.callbacks import ModelCheckpoint\n",
    "checkpointer = ModelCheckpoint(filepath=\"model/iris_deep.hdf5\", \n",
    "                               monitor='val_loss', \n",
    "                               verbose=1, save_best_only=True)"
   ]
  },
  {
   "cell_type": "code",
   "execution_count": 37,
   "metadata": {},
   "outputs": [
    {
     "data": {
      "text/plain": [
       "(array([1., 0., 0.], dtype=float32),\n",
       " array([0., 0., 1.], dtype=float32),\n",
       " array([0., 0., 1.], dtype=float32))"
      ]
     },
     "execution_count": 37,
     "metadata": {},
     "output_type": "execute_result"
    }
   ],
   "source": [
    "# One hot encoding\n",
    "Y_encoded = keras.utils.to_categorical(y_train)\n",
    "Y_encoded[0], Y_encoded[50], Y_encoded[100]"
   ]
  },
  {
   "cell_type": "code",
   "execution_count": 38,
   "metadata": {},
   "outputs": [
    {
     "name": "stdout",
     "output_type": "stream",
     "text": [
      "Train on 96 samples, validate on 24 samples\n",
      "Epoch 1/100\n",
      " - 0s - loss: 1.2733 - accuracy: 0.3125 - val_loss: 1.1030 - val_accuracy: 0.4167\n",
      "\n",
      "Epoch 00001: val_loss improved from inf to 1.10302, saving model to model/iris_deep.hdf5\n",
      "Epoch 2/100\n",
      " - 0s - loss: 1.2257 - accuracy: 0.3125 - val_loss: 1.0757 - val_accuracy: 0.4167\n",
      "\n",
      "Epoch 00002: val_loss improved from 1.10302 to 1.07574, saving model to model/iris_deep.hdf5\n",
      "Epoch 3/100\n",
      " - 0s - loss: 1.1842 - accuracy: 0.3125 - val_loss: 1.0539 - val_accuracy: 0.4167\n",
      "\n",
      "Epoch 00003: val_loss improved from 1.07574 to 1.05385, saving model to model/iris_deep.hdf5\n",
      "Epoch 4/100\n",
      " - 0s - loss: 1.1502 - accuracy: 0.3125 - val_loss: 1.0367 - val_accuracy: 0.4167\n",
      "\n",
      "Epoch 00004: val_loss improved from 1.05385 to 1.03668, saving model to model/iris_deep.hdf5\n",
      "Epoch 5/100\n",
      " - 0s - loss: 1.1177 - accuracy: 0.3125 - val_loss: 1.0233 - val_accuracy: 0.4167\n",
      "\n",
      "Epoch 00005: val_loss improved from 1.03668 to 1.02332, saving model to model/iris_deep.hdf5\n",
      "Epoch 6/100\n",
      " - 0s - loss: 1.0962 - accuracy: 0.3125 - val_loss: 1.0126 - val_accuracy: 0.4167\n",
      "\n",
      "Epoch 00006: val_loss improved from 1.02332 to 1.01255, saving model to model/iris_deep.hdf5\n",
      "Epoch 7/100\n",
      " - 0s - loss: 1.0728 - accuracy: 0.3125 - val_loss: 1.0032 - val_accuracy: 0.4167\n",
      "\n",
      "Epoch 00007: val_loss improved from 1.01255 to 1.00318, saving model to model/iris_deep.hdf5\n",
      "Epoch 8/100\n",
      " - 0s - loss: 1.0559 - accuracy: 0.3229 - val_loss: 0.9937 - val_accuracy: 0.5000\n",
      "\n",
      "Epoch 00008: val_loss improved from 1.00318 to 0.99368, saving model to model/iris_deep.hdf5\n",
      "Epoch 9/100\n",
      " - 0s - loss: 1.0392 - accuracy: 0.4375 - val_loss: 0.9844 - val_accuracy: 0.6667\n",
      "\n",
      "Epoch 00009: val_loss improved from 0.99368 to 0.98438, saving model to model/iris_deep.hdf5\n",
      "Epoch 10/100\n",
      " - 0s - loss: 1.0204 - accuracy: 0.5833 - val_loss: 0.9746 - val_accuracy: 0.6667\n",
      "\n",
      "Epoch 00010: val_loss improved from 0.98438 to 0.97463, saving model to model/iris_deep.hdf5\n",
      "Epoch 11/100\n",
      " - 0s - loss: 1.0075 - accuracy: 0.6458 - val_loss: 0.9672 - val_accuracy: 0.7083\n",
      "\n",
      "Epoch 00011: val_loss improved from 0.97463 to 0.96723, saving model to model/iris_deep.hdf5\n",
      "Epoch 12/100\n",
      " - 0s - loss: 0.9953 - accuracy: 0.6458 - val_loss: 0.9600 - val_accuracy: 0.7083\n",
      "\n",
      "Epoch 00012: val_loss improved from 0.96723 to 0.96003, saving model to model/iris_deep.hdf5\n",
      "Epoch 13/100\n",
      " - 0s - loss: 0.9833 - accuracy: 0.6562 - val_loss: 0.9518 - val_accuracy: 0.7083\n",
      "\n",
      "Epoch 00013: val_loss improved from 0.96003 to 0.95179, saving model to model/iris_deep.hdf5\n",
      "Epoch 14/100\n",
      " - 0s - loss: 0.9722 - accuracy: 0.6562 - val_loss: 0.9434 - val_accuracy: 0.7083\n",
      "\n",
      "Epoch 00014: val_loss improved from 0.95179 to 0.94335, saving model to model/iris_deep.hdf5\n",
      "Epoch 15/100\n",
      " - 0s - loss: 0.9614 - accuracy: 0.6562 - val_loss: 0.9352 - val_accuracy: 0.7083\n",
      "\n",
      "Epoch 00015: val_loss improved from 0.94335 to 0.93523, saving model to model/iris_deep.hdf5\n",
      "Epoch 16/100\n",
      " - 0s - loss: 0.9513 - accuracy: 0.6562 - val_loss: 0.9279 - val_accuracy: 0.7083\n",
      "\n",
      "Epoch 00016: val_loss improved from 0.93523 to 0.92785, saving model to model/iris_deep.hdf5\n",
      "Epoch 17/100\n",
      " - 0s - loss: 0.9405 - accuracy: 0.6562 - val_loss: 0.9195 - val_accuracy: 0.7083\n",
      "\n",
      "Epoch 00017: val_loss improved from 0.92785 to 0.91952, saving model to model/iris_deep.hdf5\n",
      "Epoch 18/100\n",
      " - 0s - loss: 0.9298 - accuracy: 0.6562 - val_loss: 0.9111 - val_accuracy: 0.7083\n",
      "\n",
      "Epoch 00018: val_loss improved from 0.91952 to 0.91114, saving model to model/iris_deep.hdf5\n",
      "Epoch 19/100\n",
      " - 0s - loss: 0.9196 - accuracy: 0.6562 - val_loss: 0.9008 - val_accuracy: 0.7083\n",
      "\n",
      "Epoch 00019: val_loss improved from 0.91114 to 0.90077, saving model to model/iris_deep.hdf5\n",
      "Epoch 20/100\n",
      " - 0s - loss: 0.9085 - accuracy: 0.6562 - val_loss: 0.8905 - val_accuracy: 0.7083\n",
      "\n",
      "Epoch 00020: val_loss improved from 0.90077 to 0.89049, saving model to model/iris_deep.hdf5\n",
      "Epoch 21/100\n",
      " - 0s - loss: 0.8980 - accuracy: 0.6562 - val_loss: 0.8808 - val_accuracy: 0.7083\n",
      "\n",
      "Epoch 00021: val_loss improved from 0.89049 to 0.88076, saving model to model/iris_deep.hdf5\n",
      "Epoch 22/100\n",
      " - 0s - loss: 0.8875 - accuracy: 0.6562 - val_loss: 0.8694 - val_accuracy: 0.7083\n",
      "\n",
      "Epoch 00022: val_loss improved from 0.88076 to 0.86943, saving model to model/iris_deep.hdf5\n",
      "Epoch 23/100\n",
      " - 0s - loss: 0.8769 - accuracy: 0.6562 - val_loss: 0.8578 - val_accuracy: 0.7083\n",
      "\n",
      "Epoch 00023: val_loss improved from 0.86943 to 0.85782, saving model to model/iris_deep.hdf5\n",
      "Epoch 24/100\n",
      " - 0s - loss: 0.8676 - accuracy: 0.6562 - val_loss: 0.8485 - val_accuracy: 0.7083\n",
      "\n",
      "Epoch 00024: val_loss improved from 0.85782 to 0.84851, saving model to model/iris_deep.hdf5\n",
      "Epoch 25/100\n",
      " - 0s - loss: 0.8574 - accuracy: 0.6562 - val_loss: 0.8403 - val_accuracy: 0.7083\n",
      "\n",
      "Epoch 00025: val_loss improved from 0.84851 to 0.84033, saving model to model/iris_deep.hdf5\n",
      "Epoch 26/100\n",
      " - 0s - loss: 0.8458 - accuracy: 0.6562 - val_loss: 0.8297 - val_accuracy: 0.7083\n",
      "\n",
      "Epoch 00026: val_loss improved from 0.84033 to 0.82965, saving model to model/iris_deep.hdf5\n",
      "Epoch 27/100\n",
      " - 0s - loss: 0.8349 - accuracy: 0.6562 - val_loss: 0.8187 - val_accuracy: 0.7083\n",
      "\n",
      "Epoch 00027: val_loss improved from 0.82965 to 0.81866, saving model to model/iris_deep.hdf5\n",
      "Epoch 28/100\n",
      " - 0s - loss: 0.8236 - accuracy: 0.6562 - val_loss: 0.8086 - val_accuracy: 0.7083\n",
      "\n",
      "Epoch 00028: val_loss improved from 0.81866 to 0.80856, saving model to model/iris_deep.hdf5\n",
      "Epoch 29/100\n",
      " - 0s - loss: 0.8137 - accuracy: 0.6562 - val_loss: 0.7994 - val_accuracy: 0.7083\n",
      "\n",
      "Epoch 00029: val_loss improved from 0.80856 to 0.79943, saving model to model/iris_deep.hdf5\n",
      "Epoch 30/100\n",
      " - 0s - loss: 0.8043 - accuracy: 0.6562 - val_loss: 0.7919 - val_accuracy: 0.7083\n",
      "\n",
      "Epoch 00030: val_loss improved from 0.79943 to 0.79186, saving model to model/iris_deep.hdf5\n",
      "Epoch 31/100\n",
      " - 0s - loss: 0.7946 - accuracy: 0.6562 - val_loss: 0.7844 - val_accuracy: 0.7917\n",
      "\n",
      "Epoch 00031: val_loss improved from 0.79186 to 0.78444, saving model to model/iris_deep.hdf5\n",
      "Epoch 32/100\n",
      " - 0s - loss: 0.7829 - accuracy: 0.6771 - val_loss: 0.7752 - val_accuracy: 0.7917\n",
      "\n",
      "Epoch 00032: val_loss improved from 0.78444 to 0.77523, saving model to model/iris_deep.hdf5\n",
      "Epoch 33/100\n",
      " - 0s - loss: 0.7734 - accuracy: 0.7083 - val_loss: 0.7660 - val_accuracy: 0.7917\n",
      "\n",
      "Epoch 00033: val_loss improved from 0.77523 to 0.76599, saving model to model/iris_deep.hdf5\n",
      "Epoch 34/100\n",
      " - 0s - loss: 0.7629 - accuracy: 0.6979 - val_loss: 0.7558 - val_accuracy: 0.7917\n",
      "\n",
      "Epoch 00034: val_loss improved from 0.76599 to 0.75584, saving model to model/iris_deep.hdf5\n",
      "Epoch 35/100\n",
      " - 0s - loss: 0.7536 - accuracy: 0.6771 - val_loss: 0.7463 - val_accuracy: 0.7917\n",
      "\n",
      "Epoch 00035: val_loss improved from 0.75584 to 0.74631, saving model to model/iris_deep.hdf5\n",
      "Epoch 36/100\n",
      " - 0s - loss: 0.7439 - accuracy: 0.6771 - val_loss: 0.7366 - val_accuracy: 0.7917\n",
      "\n",
      "Epoch 00036: val_loss improved from 0.74631 to 0.73659, saving model to model/iris_deep.hdf5\n",
      "Epoch 37/100\n",
      " - 0s - loss: 0.7341 - accuracy: 0.6667 - val_loss: 0.7264 - val_accuracy: 0.7500\n",
      "\n",
      "Epoch 00037: val_loss improved from 0.73659 to 0.72636, saving model to model/iris_deep.hdf5\n",
      "Epoch 38/100\n",
      " - 0s - loss: 0.7248 - accuracy: 0.6667 - val_loss: 0.7164 - val_accuracy: 0.7083\n",
      "\n",
      "Epoch 00038: val_loss improved from 0.72636 to 0.71637, saving model to model/iris_deep.hdf5\n",
      "Epoch 39/100\n",
      " - 0s - loss: 0.7153 - accuracy: 0.6562 - val_loss: 0.7070 - val_accuracy: 0.7083\n",
      "\n",
      "Epoch 00039: val_loss improved from 0.71637 to 0.70702, saving model to model/iris_deep.hdf5\n",
      "Epoch 40/100\n",
      " - 0s - loss: 0.7063 - accuracy: 0.6667 - val_loss: 0.6992 - val_accuracy: 0.7500\n",
      "\n",
      "Epoch 00040: val_loss improved from 0.70702 to 0.69921, saving model to model/iris_deep.hdf5\n",
      "Epoch 41/100\n",
      " - 0s - loss: 0.6967 - accuracy: 0.6771 - val_loss: 0.6923 - val_accuracy: 0.7917\n",
      "\n",
      "Epoch 00041: val_loss improved from 0.69921 to 0.69226, saving model to model/iris_deep.hdf5\n",
      "Epoch 42/100\n",
      " - 0s - loss: 0.6876 - accuracy: 0.6875 - val_loss: 0.6838 - val_accuracy: 0.7917\n",
      "\n",
      "Epoch 00042: val_loss improved from 0.69226 to 0.68375, saving model to model/iris_deep.hdf5\n",
      "Epoch 43/100\n",
      " - 0s - loss: 0.6787 - accuracy: 0.6875 - val_loss: 0.6753 - val_accuracy: 0.7917\n",
      "\n",
      "Epoch 00043: val_loss improved from 0.68375 to 0.67532, saving model to model/iris_deep.hdf5\n",
      "Epoch 44/100\n",
      " - 0s - loss: 0.6703 - accuracy: 0.6875 - val_loss: 0.6668 - val_accuracy: 0.7917\n"
     ]
    },
    {
     "name": "stdout",
     "output_type": "stream",
     "text": [
      "\n",
      "Epoch 00044: val_loss improved from 0.67532 to 0.66676, saving model to model/iris_deep.hdf5\n",
      "Epoch 45/100\n",
      " - 0s - loss: 0.6623 - accuracy: 0.6875 - val_loss: 0.6588 - val_accuracy: 0.7917\n",
      "\n",
      "Epoch 00045: val_loss improved from 0.66676 to 0.65885, saving model to model/iris_deep.hdf5\n",
      "Epoch 46/100\n",
      " - 0s - loss: 0.6536 - accuracy: 0.6875 - val_loss: 0.6513 - val_accuracy: 0.7917\n",
      "\n",
      "Epoch 00046: val_loss improved from 0.65885 to 0.65126, saving model to model/iris_deep.hdf5\n",
      "Epoch 47/100\n",
      " - 0s - loss: 0.6451 - accuracy: 0.7083 - val_loss: 0.6440 - val_accuracy: 0.8333\n",
      "\n",
      "Epoch 00047: val_loss improved from 0.65126 to 0.64403, saving model to model/iris_deep.hdf5\n",
      "Epoch 48/100\n",
      " - 0s - loss: 0.6368 - accuracy: 0.7396 - val_loss: 0.6376 - val_accuracy: 0.8333\n",
      "\n",
      "Epoch 00048: val_loss improved from 0.64403 to 0.63759, saving model to model/iris_deep.hdf5\n",
      "Epoch 49/100\n",
      " - 0s - loss: 0.6293 - accuracy: 0.7812 - val_loss: 0.6321 - val_accuracy: 0.8333\n",
      "\n",
      "Epoch 00049: val_loss improved from 0.63759 to 0.63208, saving model to model/iris_deep.hdf5\n",
      "Epoch 50/100\n",
      " - 0s - loss: 0.6221 - accuracy: 0.8646 - val_loss: 0.6270 - val_accuracy: 0.9167\n",
      "\n",
      "Epoch 00050: val_loss improved from 0.63208 to 0.62701, saving model to model/iris_deep.hdf5\n",
      "Epoch 51/100\n",
      " - 0s - loss: 0.6143 - accuracy: 0.8958 - val_loss: 0.6191 - val_accuracy: 0.8750\n",
      "\n",
      "Epoch 00051: val_loss improved from 0.62701 to 0.61910, saving model to model/iris_deep.hdf5\n",
      "Epoch 52/100\n",
      " - 0s - loss: 0.6071 - accuracy: 0.8646 - val_loss: 0.6112 - val_accuracy: 0.8333\n",
      "\n",
      "Epoch 00052: val_loss improved from 0.61910 to 0.61123, saving model to model/iris_deep.hdf5\n",
      "Epoch 53/100\n",
      " - 0s - loss: 0.6010 - accuracy: 0.8021 - val_loss: 0.6024 - val_accuracy: 0.8333\n",
      "\n",
      "Epoch 00053: val_loss improved from 0.61123 to 0.60236, saving model to model/iris_deep.hdf5\n",
      "Epoch 54/100\n",
      " - 0s - loss: 0.5935 - accuracy: 0.7604 - val_loss: 0.5946 - val_accuracy: 0.8333\n",
      "\n",
      "Epoch 00054: val_loss improved from 0.60236 to 0.59463, saving model to model/iris_deep.hdf5\n",
      "Epoch 55/100\n",
      " - 0s - loss: 0.5868 - accuracy: 0.7500 - val_loss: 0.5877 - val_accuracy: 0.8333\n",
      "\n",
      "Epoch 00055: val_loss improved from 0.59463 to 0.58768, saving model to model/iris_deep.hdf5\n",
      "Epoch 56/100\n",
      " - 0s - loss: 0.5808 - accuracy: 0.7500 - val_loss: 0.5814 - val_accuracy: 0.8333\n",
      "\n",
      "Epoch 00056: val_loss improved from 0.58768 to 0.58138, saving model to model/iris_deep.hdf5\n",
      "Epoch 57/100\n",
      " - 0s - loss: 0.5738 - accuracy: 0.7604 - val_loss: 0.5772 - val_accuracy: 0.8333\n",
      "\n",
      "Epoch 00057: val_loss improved from 0.58138 to 0.57720, saving model to model/iris_deep.hdf5\n",
      "Epoch 58/100\n",
      " - 0s - loss: 0.5675 - accuracy: 0.8125 - val_loss: 0.5735 - val_accuracy: 0.8750\n",
      "\n",
      "Epoch 00058: val_loss improved from 0.57720 to 0.57353, saving model to model/iris_deep.hdf5\n",
      "Epoch 59/100\n",
      " - 0s - loss: 0.5622 - accuracy: 0.8958 - val_loss: 0.5701 - val_accuracy: 0.9583\n",
      "\n",
      "Epoch 00059: val_loss improved from 0.57353 to 0.57010, saving model to model/iris_deep.hdf5\n",
      "Epoch 60/100\n",
      " - 0s - loss: 0.5566 - accuracy: 0.9271 - val_loss: 0.5652 - val_accuracy: 0.9583\n",
      "\n",
      "Epoch 00060: val_loss improved from 0.57010 to 0.56521, saving model to model/iris_deep.hdf5\n",
      "Epoch 61/100\n",
      " - 0s - loss: 0.5511 - accuracy: 0.9271 - val_loss: 0.5596 - val_accuracy: 0.9583\n",
      "\n",
      "Epoch 00061: val_loss improved from 0.56521 to 0.55960, saving model to model/iris_deep.hdf5\n",
      "Epoch 62/100\n",
      " - 0s - loss: 0.5457 - accuracy: 0.9271 - val_loss: 0.5544 - val_accuracy: 0.9583\n",
      "\n",
      "Epoch 00062: val_loss improved from 0.55960 to 0.55438, saving model to model/iris_deep.hdf5\n",
      "Epoch 63/100\n",
      " - 0s - loss: 0.5407 - accuracy: 0.9062 - val_loss: 0.5479 - val_accuracy: 0.9167\n",
      "\n",
      "Epoch 00063: val_loss improved from 0.55438 to 0.54794, saving model to model/iris_deep.hdf5\n",
      "Epoch 64/100\n",
      " - 0s - loss: 0.5353 - accuracy: 0.9271 - val_loss: 0.5441 - val_accuracy: 0.9583\n",
      "\n",
      "Epoch 00064: val_loss improved from 0.54794 to 0.54408, saving model to model/iris_deep.hdf5\n",
      "Epoch 65/100\n",
      " - 0s - loss: 0.5302 - accuracy: 0.9167 - val_loss: 0.5399 - val_accuracy: 0.9167\n",
      "\n",
      "Epoch 00065: val_loss improved from 0.54408 to 0.53985, saving model to model/iris_deep.hdf5\n",
      "Epoch 66/100\n",
      " - 0s - loss: 0.5268 - accuracy: 0.8958 - val_loss: 0.5360 - val_accuracy: 0.8750\n",
      "\n",
      "Epoch 00066: val_loss improved from 0.53985 to 0.53599, saving model to model/iris_deep.hdf5\n",
      "Epoch 67/100\n",
      " - 0s - loss: 0.5220 - accuracy: 0.8958 - val_loss: 0.5328 - val_accuracy: 0.9167\n",
      "\n",
      "Epoch 00067: val_loss improved from 0.53599 to 0.53280, saving model to model/iris_deep.hdf5\n",
      "Epoch 68/100\n",
      " - 0s - loss: 0.5174 - accuracy: 0.8958 - val_loss: 0.5294 - val_accuracy: 0.9583\n",
      "\n",
      "Epoch 00068: val_loss improved from 0.53280 to 0.52937, saving model to model/iris_deep.hdf5\n",
      "Epoch 69/100\n",
      " - 0s - loss: 0.5132 - accuracy: 0.9167 - val_loss: 0.5264 - val_accuracy: 0.9583\n",
      "\n",
      "Epoch 00069: val_loss improved from 0.52937 to 0.52637, saving model to model/iris_deep.hdf5\n",
      "Epoch 70/100\n",
      " - 0s - loss: 0.5091 - accuracy: 0.9479 - val_loss: 0.5234 - val_accuracy: 1.0000\n",
      "\n",
      "Epoch 00070: val_loss improved from 0.52637 to 0.52342, saving model to model/iris_deep.hdf5\n",
      "Epoch 71/100\n",
      " - 0s - loss: 0.5051 - accuracy: 0.9688 - val_loss: 0.5200 - val_accuracy: 1.0000\n",
      "\n",
      "Epoch 00071: val_loss improved from 0.52342 to 0.51996, saving model to model/iris_deep.hdf5\n",
      "Epoch 72/100\n",
      " - 0s - loss: 0.5014 - accuracy: 0.9688 - val_loss: 0.5170 - val_accuracy: 1.0000\n",
      "\n",
      "Epoch 00072: val_loss improved from 0.51996 to 0.51699, saving model to model/iris_deep.hdf5\n",
      "Epoch 73/100\n",
      " - 0s - loss: 0.4978 - accuracy: 0.9688 - val_loss: 0.5150 - val_accuracy: 1.0000\n",
      "\n",
      "Epoch 00073: val_loss improved from 0.51699 to 0.51498, saving model to model/iris_deep.hdf5\n",
      "Epoch 74/100\n",
      " - 0s - loss: 0.4945 - accuracy: 0.9688 - val_loss: 0.5118 - val_accuracy: 1.0000\n",
      "\n",
      "Epoch 00074: val_loss improved from 0.51498 to 0.51177, saving model to model/iris_deep.hdf5\n",
      "Epoch 75/100\n",
      " - 0s - loss: 0.4911 - accuracy: 0.9688 - val_loss: 0.5092 - val_accuracy: 1.0000\n",
      "\n",
      "Epoch 00075: val_loss improved from 0.51177 to 0.50923, saving model to model/iris_deep.hdf5\n",
      "Epoch 76/100\n",
      " - 0s - loss: 0.4880 - accuracy: 0.9375 - val_loss: 0.5069 - val_accuracy: 1.0000\n",
      "\n",
      "Epoch 00076: val_loss improved from 0.50923 to 0.50690, saving model to model/iris_deep.hdf5\n",
      "Epoch 77/100\n",
      " - 0s - loss: 0.4845 - accuracy: 0.9375 - val_loss: 0.5027 - val_accuracy: 1.0000\n",
      "\n",
      "Epoch 00077: val_loss improved from 0.50690 to 0.50270, saving model to model/iris_deep.hdf5\n",
      "Epoch 78/100\n",
      " - 0s - loss: 0.4811 - accuracy: 0.9688 - val_loss: 0.4984 - val_accuracy: 1.0000\n",
      "\n",
      "Epoch 00078: val_loss improved from 0.50270 to 0.49844, saving model to model/iris_deep.hdf5\n",
      "Epoch 79/100\n",
      " - 0s - loss: 0.4792 - accuracy: 0.9167 - val_loss: 0.4945 - val_accuracy: 0.9583\n",
      "\n",
      "Epoch 00079: val_loss improved from 0.49844 to 0.49446, saving model to model/iris_deep.hdf5\n",
      "Epoch 80/100\n",
      " - 0s - loss: 0.4759 - accuracy: 0.9167 - val_loss: 0.4903 - val_accuracy: 0.9583\n",
      "\n",
      "Epoch 00080: val_loss improved from 0.49446 to 0.49029, saving model to model/iris_deep.hdf5\n",
      "Epoch 81/100\n",
      " - 0s - loss: 0.4722 - accuracy: 0.9375 - val_loss: 0.4862 - val_accuracy: 1.0000\n",
      "\n",
      "Epoch 00081: val_loss improved from 0.49029 to 0.48620, saving model to model/iris_deep.hdf5\n",
      "Epoch 82/100\n",
      " - 0s - loss: 0.4691 - accuracy: 0.9583 - val_loss: 0.4824 - val_accuracy: 1.0000\n",
      "\n",
      "Epoch 00082: val_loss improved from 0.48620 to 0.48245, saving model to model/iris_deep.hdf5\n",
      "Epoch 83/100\n",
      " - 0s - loss: 0.4661 - accuracy: 0.9583 - val_loss: 0.4794 - val_accuracy: 1.0000\n",
      "\n",
      "Epoch 00083: val_loss improved from 0.48245 to 0.47939, saving model to model/iris_deep.hdf5\n",
      "Epoch 84/100\n",
      " - 0s - loss: 0.4630 - accuracy: 0.9583 - val_loss: 0.4770 - val_accuracy: 1.0000\n",
      "\n",
      "Epoch 00084: val_loss improved from 0.47939 to 0.47699, saving model to model/iris_deep.hdf5\n",
      "Epoch 85/100\n",
      " - 0s - loss: 0.4597 - accuracy: 0.9688 - val_loss: 0.4754 - val_accuracy: 1.0000\n",
      "\n",
      "Epoch 00085: val_loss improved from 0.47699 to 0.47538, saving model to model/iris_deep.hdf5\n",
      "Epoch 86/100\n",
      " - 0s - loss: 0.4576 - accuracy: 0.9479 - val_loss: 0.4758 - val_accuracy: 0.9583\n",
      "\n",
      "Epoch 00086: val_loss did not improve from 0.47538\n",
      "Epoch 87/100\n",
      " - 0s - loss: 0.4549 - accuracy: 0.9375 - val_loss: 0.4739 - val_accuracy: 0.9583\n",
      "\n",
      "Epoch 00087: val_loss improved from 0.47538 to 0.47389, saving model to model/iris_deep.hdf5\n",
      "Epoch 88/100\n",
      " - 0s - loss: 0.4522 - accuracy: 0.9271 - val_loss: 0.4705 - val_accuracy: 0.9583\n"
     ]
    },
    {
     "name": "stdout",
     "output_type": "stream",
     "text": [
      "\n",
      "Epoch 00088: val_loss improved from 0.47389 to 0.47053, saving model to model/iris_deep.hdf5\n",
      "Epoch 89/100\n",
      " - 0s - loss: 0.4492 - accuracy: 0.9375 - val_loss: 0.4677 - val_accuracy: 0.9583\n",
      "\n",
      "Epoch 00089: val_loss improved from 0.47053 to 0.46767, saving model to model/iris_deep.hdf5\n",
      "Epoch 90/100\n",
      " - 0s - loss: 0.4462 - accuracy: 0.9479 - val_loss: 0.4640 - val_accuracy: 1.0000\n",
      "\n",
      "Epoch 00090: val_loss improved from 0.46767 to 0.46402, saving model to model/iris_deep.hdf5\n",
      "Epoch 91/100\n",
      " - 0s - loss: 0.4428 - accuracy: 0.9688 - val_loss: 0.4611 - val_accuracy: 1.0000\n",
      "\n",
      "Epoch 00091: val_loss improved from 0.46402 to 0.46107, saving model to model/iris_deep.hdf5\n",
      "Epoch 92/100\n",
      " - 0s - loss: 0.4402 - accuracy: 0.9688 - val_loss: 0.4573 - val_accuracy: 1.0000\n",
      "\n",
      "Epoch 00092: val_loss improved from 0.46107 to 0.45734, saving model to model/iris_deep.hdf5\n",
      "Epoch 93/100\n",
      " - 0s - loss: 0.4379 - accuracy: 0.9688 - val_loss: 0.4528 - val_accuracy: 1.0000\n",
      "\n",
      "Epoch 00093: val_loss improved from 0.45734 to 0.45277, saving model to model/iris_deep.hdf5\n",
      "Epoch 94/100\n",
      " - 0s - loss: 0.4348 - accuracy: 0.9583 - val_loss: 0.4483 - val_accuracy: 1.0000\n",
      "\n",
      "Epoch 00094: val_loss improved from 0.45277 to 0.44830, saving model to model/iris_deep.hdf5\n",
      "Epoch 95/100\n",
      " - 0s - loss: 0.4320 - accuracy: 0.9583 - val_loss: 0.4441 - val_accuracy: 1.0000\n",
      "\n",
      "Epoch 00095: val_loss improved from 0.44830 to 0.44411, saving model to model/iris_deep.hdf5\n",
      "Epoch 96/100\n",
      " - 0s - loss: 0.4286 - accuracy: 0.9583 - val_loss: 0.4399 - val_accuracy: 1.0000\n",
      "\n",
      "Epoch 00096: val_loss improved from 0.44411 to 0.43985, saving model to model/iris_deep.hdf5\n",
      "Epoch 97/100\n",
      " - 0s - loss: 0.4259 - accuracy: 0.9583 - val_loss: 0.4360 - val_accuracy: 1.0000\n",
      "\n",
      "Epoch 00097: val_loss improved from 0.43985 to 0.43603, saving model to model/iris_deep.hdf5\n",
      "Epoch 98/100\n",
      " - 0s - loss: 0.4232 - accuracy: 0.9583 - val_loss: 0.4325 - val_accuracy: 1.0000\n",
      "\n",
      "Epoch 00098: val_loss improved from 0.43603 to 0.43252, saving model to model/iris_deep.hdf5\n",
      "Epoch 99/100\n",
      " - 0s - loss: 0.4203 - accuracy: 0.9583 - val_loss: 0.4290 - val_accuracy: 1.0000\n",
      "\n",
      "Epoch 00099: val_loss improved from 0.43252 to 0.42903, saving model to model/iris_deep.hdf5\n",
      "Epoch 100/100\n",
      " - 0s - loss: 0.4178 - accuracy: 0.9583 - val_loss: 0.4251 - val_accuracy: 1.0000\n",
      "\n",
      "Epoch 00100: val_loss improved from 0.42903 to 0.42508, saving model to model/iris_deep.hdf5\n"
     ]
    },
    {
     "data": {
      "text/plain": [
       "<keras.callbacks.callbacks.History at 0x2267b70d688>"
      ]
     },
     "execution_count": 38,
     "metadata": {},
     "output_type": "execute_result"
    }
   ],
   "source": [
    "# 모델 학습\n",
    "model.fit(x_train, Y_encoded, epochs=100, batch_size=30, verbose=2,\n",
    "          validation_split=0.2, callbacks=[checkpointer])"
   ]
  },
  {
   "cell_type": "code",
   "execution_count": 40,
   "metadata": {},
   "outputs": [],
   "source": [
    "from keras.models import load_model\n",
    "model_deep = load_model(\"model/iris_deep.hdf5\")"
   ]
  },
  {
   "cell_type": "code",
   "execution_count": 41,
   "metadata": {},
   "outputs": [
    {
     "name": "stdout",
     "output_type": "stream",
     "text": [
      "\r",
      "30/30 [==============================] - 0s 33us/step\n"
     ]
    },
    {
     "data": {
      "text/plain": [
       "0.9333333373069763"
      ]
     },
     "execution_count": 41,
     "metadata": {},
     "output_type": "execute_result"
    }
   ],
   "source": [
    "model.evaluate(x_test, keras.utils.to_categorical(y_test))[1]"
   ]
  },
  {
   "cell_type": "code",
   "execution_count": 47,
   "metadata": {},
   "outputs": [
    {
     "data": {
      "text/plain": [
       "2"
      ]
     },
     "execution_count": 47,
     "metadata": {},
     "output_type": "execute_result"
    }
   ],
   "source": [
    "model_deep.predict_classes(test_data)[0]"
   ]
  },
  {
   "cell_type": "code",
   "execution_count": 45,
   "metadata": {},
   "outputs": [
    {
     "data": {
      "text/plain": [
       "array([[0.0120978 , 0.3980688 , 0.58983344]], dtype=float32)"
      ]
     },
     "execution_count": 45,
     "metadata": {},
     "output_type": "execute_result"
    }
   ],
   "source": [
    "model_deep.predict(test_data)"
   ]
  },
  {
   "cell_type": "code",
   "execution_count": 44,
   "metadata": {},
   "outputs": [
    {
     "data": {
      "text/plain": [
       "2"
      ]
     },
     "execution_count": 44,
     "metadata": {},
     "output_type": "execute_result"
    }
   ],
   "source": [
    "np.argmax(model_deep.predict(test_data)[0])"
   ]
  },
  {
   "cell_type": "code",
   "execution_count": null,
   "metadata": {},
   "outputs": [],
   "source": []
  }
 ],
 "metadata": {
  "kernelspec": {
   "display_name": "Python 3",
   "language": "python",
   "name": "python3"
  },
  "language_info": {
   "codemirror_mode": {
    "name": "ipython",
    "version": 3
   },
   "file_extension": ".py",
   "mimetype": "text/x-python",
   "name": "python",
   "nbconvert_exporter": "python",
   "pygments_lexer": "ipython3",
   "version": "3.7.7"
  }
 },
 "nbformat": 4,
 "nbformat_minor": 4
}
