{
 "cells": [
  {
   "cell_type": "markdown",
   "metadata": {},
   "source": [
    "# Iris 분류"
   ]
  },
  {
   "cell_type": "code",
   "execution_count": 1,
   "metadata": {
    "ExecuteTime": {
     "end_time": "2020-07-27T01:57:29.937354Z",
     "start_time": "2020-07-27T01:57:29.634302Z"
    }
   },
   "outputs": [],
   "source": [
    "import numpy as np\n",
    "import pandas as pd\n",
    "import warnings\n",
    "warnings.filterwarnings('ignore')"
   ]
  },
  {
   "cell_type": "code",
   "execution_count": 2,
   "metadata": {
    "ExecuteTime": {
     "end_time": "2020-07-27T01:57:30.331354Z",
     "start_time": "2020-07-27T01:57:29.960322Z"
    }
   },
   "outputs": [],
   "source": [
    "from sklearn.datasets import load_iris\n",
    "iris = load_iris()"
   ]
  },
  {
   "cell_type": "code",
   "execution_count": 3,
   "metadata": {
    "ExecuteTime": {
     "end_time": "2020-07-27T01:57:30.715300Z",
     "start_time": "2020-07-27T01:57:30.699300Z"
    }
   },
   "outputs": [
    {
     "data": {
      "text/html": [
       "<div>\n",
       "<style scoped>\n",
       "    .dataframe tbody tr th:only-of-type {\n",
       "        vertical-align: middle;\n",
       "    }\n",
       "\n",
       "    .dataframe tbody tr th {\n",
       "        vertical-align: top;\n",
       "    }\n",
       "\n",
       "    .dataframe thead th {\n",
       "        text-align: right;\n",
       "    }\n",
       "</style>\n",
       "<table border=\"1\" class=\"dataframe\">\n",
       "  <thead>\n",
       "    <tr style=\"text-align: right;\">\n",
       "      <th></th>\n",
       "      <th>sepal length (cm)</th>\n",
       "      <th>sepal width (cm)</th>\n",
       "      <th>petal length (cm)</th>\n",
       "      <th>petal width (cm)</th>\n",
       "    </tr>\n",
       "  </thead>\n",
       "  <tbody>\n",
       "    <tr>\n",
       "      <th>0</th>\n",
       "      <td>5.1</td>\n",
       "      <td>3.5</td>\n",
       "      <td>1.4</td>\n",
       "      <td>0.2</td>\n",
       "    </tr>\n",
       "    <tr>\n",
       "      <th>1</th>\n",
       "      <td>4.9</td>\n",
       "      <td>3.0</td>\n",
       "      <td>1.4</td>\n",
       "      <td>0.2</td>\n",
       "    </tr>\n",
       "    <tr>\n",
       "      <th>2</th>\n",
       "      <td>4.7</td>\n",
       "      <td>3.2</td>\n",
       "      <td>1.3</td>\n",
       "      <td>0.2</td>\n",
       "    </tr>\n",
       "    <tr>\n",
       "      <th>3</th>\n",
       "      <td>4.6</td>\n",
       "      <td>3.1</td>\n",
       "      <td>1.5</td>\n",
       "      <td>0.2</td>\n",
       "    </tr>\n",
       "    <tr>\n",
       "      <th>4</th>\n",
       "      <td>5.0</td>\n",
       "      <td>3.6</td>\n",
       "      <td>1.4</td>\n",
       "      <td>0.2</td>\n",
       "    </tr>\n",
       "  </tbody>\n",
       "</table>\n",
       "</div>"
      ],
      "text/plain": [
       "   sepal length (cm)  sepal width (cm)  petal length (cm)  petal width (cm)\n",
       "0                5.1               3.5                1.4               0.2\n",
       "1                4.9               3.0                1.4               0.2\n",
       "2                4.7               3.2                1.3               0.2\n",
       "3                4.6               3.1                1.5               0.2\n",
       "4                5.0               3.6                1.4               0.2"
      ]
     },
     "execution_count": 3,
     "metadata": {},
     "output_type": "execute_result"
    }
   ],
   "source": [
    "# data, target, target_names, feature_names, DESCR\n",
    "data = iris.data\n",
    "label = iris.target\n",
    "columns = iris.feature_names\n",
    "df = pd.DataFrame(data, columns=columns)\n",
    "df.head()"
   ]
  },
  {
   "cell_type": "code",
   "execution_count": 4,
   "metadata": {
    "ExecuteTime": {
     "end_time": "2020-07-27T01:57:31.084300Z",
     "start_time": "2020-07-27T01:57:31.057305Z"
    }
   },
   "outputs": [],
   "source": [
    "from sklearn.model_selection import train_test_split\n",
    "x_train, x_test, y_train, y_test = \\\n",
    "    train_test_split(data, label, test_size=0.2, \n",
    "                     shuffle=True, stratify=label, random_state=2019)"
   ]
  },
  {
   "cell_type": "markdown",
   "metadata": {},
   "source": [
    "### Logistic Regression"
   ]
  },
  {
   "cell_type": "markdown",
   "metadata": {},
   "source": [
    "- 모델 객체 생성"
   ]
  },
  {
   "cell_type": "code",
   "execution_count": 5,
   "metadata": {
    "ExecuteTime": {
     "end_time": "2020-07-27T01:57:32.150332Z",
     "start_time": "2020-07-27T01:57:32.111302Z"
    }
   },
   "outputs": [],
   "source": [
    "from sklearn.linear_model import LogisticRegression\n",
    "lr = LogisticRegression(verbose=1)"
   ]
  },
  {
   "cell_type": "markdown",
   "metadata": {},
   "source": [
    "- 모델 학습"
   ]
  },
  {
   "cell_type": "code",
   "execution_count": 6,
   "metadata": {
    "ExecuteTime": {
     "end_time": "2020-07-27T01:57:32.858301Z",
     "start_time": "2020-07-27T01:57:32.817300Z"
    }
   },
   "outputs": [
    {
     "name": "stderr",
     "output_type": "stream",
     "text": [
      "[Parallel(n_jobs=1)]: Using backend SequentialBackend with 1 concurrent workers.\n",
      "[Parallel(n_jobs=1)]: Done   1 out of   1 | elapsed:    0.0s finished\n"
     ]
    },
    {
     "data": {
      "text/plain": [
       "LogisticRegression(verbose=1)"
      ]
     },
     "execution_count": 6,
     "metadata": {},
     "output_type": "execute_result"
    }
   ],
   "source": [
    "lr.fit(x_train, y_train)"
   ]
  },
  {
   "cell_type": "markdown",
   "metadata": {},
   "source": [
    "- 학습한 결과를 저장"
   ]
  },
  {
   "cell_type": "code",
   "execution_count": 7,
   "metadata": {
    "ExecuteTime": {
     "end_time": "2020-07-27T01:57:33.553299Z",
     "start_time": "2020-07-27T01:57:33.546300Z"
    }
   },
   "outputs": [
    {
     "data": {
      "text/plain": [
       "['model/iris_lr.pkl']"
      ]
     },
     "execution_count": 7,
     "metadata": {},
     "output_type": "execute_result"
    }
   ],
   "source": [
    "import joblib\n",
    "joblib.dump(lr, 'model/iris_lr.pkl')"
   ]
  },
  {
   "cell_type": "markdown",
   "metadata": {},
   "source": [
    "### Support Vector Machine"
   ]
  },
  {
   "cell_type": "code",
   "execution_count": 8,
   "metadata": {
    "ExecuteTime": {
     "end_time": "2020-07-27T01:57:34.259302Z",
     "start_time": "2020-07-27T01:57:34.256331Z"
    }
   },
   "outputs": [],
   "source": [
    "from sklearn.svm import SVC\n",
    "svc = SVC()"
   ]
  },
  {
   "cell_type": "code",
   "execution_count": 9,
   "metadata": {
    "ExecuteTime": {
     "end_time": "2020-07-27T01:57:34.575302Z",
     "start_time": "2020-07-27T01:57:34.569301Z"
    }
   },
   "outputs": [
    {
     "data": {
      "text/plain": [
       "SVC()"
      ]
     },
     "execution_count": 9,
     "metadata": {},
     "output_type": "execute_result"
    }
   ],
   "source": [
    "svc.fit(x_train, y_train)"
   ]
  },
  {
   "cell_type": "code",
   "execution_count": 10,
   "metadata": {
    "ExecuteTime": {
     "end_time": "2020-07-27T01:57:34.926301Z",
     "start_time": "2020-07-27T01:57:34.921302Z"
    }
   },
   "outputs": [
    {
     "data": {
      "text/plain": [
       "['model/iris_svm.pkl']"
      ]
     },
     "execution_count": 10,
     "metadata": {},
     "output_type": "execute_result"
    }
   ],
   "source": [
    "joblib.dump(svc, 'model/iris_svm.pkl')"
   ]
  },
  {
   "cell_type": "markdown",
   "metadata": {},
   "source": [
    "### Decision Tree"
   ]
  },
  {
   "cell_type": "code",
   "execution_count": 11,
   "metadata": {
    "ExecuteTime": {
     "end_time": "2020-07-27T01:57:35.646330Z",
     "start_time": "2020-07-27T01:57:35.608303Z"
    }
   },
   "outputs": [],
   "source": [
    "from sklearn.tree import DecisionTreeClassifier\n",
    "dtc = DecisionTreeClassifier()"
   ]
  },
  {
   "cell_type": "code",
   "execution_count": 12,
   "metadata": {
    "ExecuteTime": {
     "end_time": "2020-07-27T01:57:35.966300Z",
     "start_time": "2020-07-27T01:57:35.961304Z"
    }
   },
   "outputs": [
    {
     "data": {
      "text/plain": [
       "DecisionTreeClassifier()"
      ]
     },
     "execution_count": 12,
     "metadata": {},
     "output_type": "execute_result"
    }
   ],
   "source": [
    "dtc.fit(x_train, y_train)"
   ]
  },
  {
   "cell_type": "code",
   "execution_count": 13,
   "metadata": {
    "ExecuteTime": {
     "end_time": "2020-07-27T01:57:36.302330Z",
     "start_time": "2020-07-27T01:57:36.296332Z"
    }
   },
   "outputs": [
    {
     "data": {
      "text/plain": [
       "['model/iris_dt.pkl']"
      ]
     },
     "execution_count": 13,
     "metadata": {},
     "output_type": "execute_result"
    }
   ],
   "source": [
    "joblib.dump(dtc, 'model/iris_dt.pkl')"
   ]
  },
  {
   "cell_type": "markdown",
   "metadata": {},
   "source": [
    "### 저장된 모델로 정확도 산출"
   ]
  },
  {
   "cell_type": "code",
   "execution_count": 14,
   "metadata": {
    "ExecuteTime": {
     "end_time": "2020-07-27T01:57:37.012300Z",
     "start_time": "2020-07-27T01:57:36.992301Z"
    }
   },
   "outputs": [],
   "source": [
    "model_lr = joblib.load('model/iris_lr.pkl')\n",
    "model_svm = joblib.load('model/iris_svm.pkl')\n",
    "model_dt = joblib.load('model/iris_dt.pkl')"
   ]
  },
  {
   "cell_type": "code",
   "execution_count": 15,
   "metadata": {
    "ExecuteTime": {
     "end_time": "2020-07-27T01:57:37.349301Z",
     "start_time": "2020-07-27T01:57:37.344333Z"
    }
   },
   "outputs": [],
   "source": [
    "y_pred_lr = model_lr.predict(x_test)\n",
    "y_pred_svm = model_svm.predict(x_test)\n",
    "y_pred_dt = model_dt.predict(x_test)"
   ]
  },
  {
   "cell_type": "code",
   "execution_count": 16,
   "metadata": {
    "ExecuteTime": {
     "end_time": "2020-07-27T01:57:37.727301Z",
     "start_time": "2020-07-27T01:57:37.722301Z"
    }
   },
   "outputs": [
    {
     "name": "stdout",
     "output_type": "stream",
     "text": [
      "0.9666666666666667 0.9666666666666667 0.9666666666666667\n"
     ]
    }
   ],
   "source": [
    "from sklearn.metrics import accuracy_score\n",
    "acc_lr = accuracy_score(y_test, y_pred_lr)\n",
    "acc_svm = accuracy_score(y_test, y_pred_svm)\n",
    "acc_dt = accuracy_score(y_test, y_pred_dt)\n",
    "print(acc_lr, acc_svm, acc_dt)"
   ]
  },
  {
   "cell_type": "markdown",
   "metadata": {},
   "source": [
    "### 한개의 테스트 값 예측"
   ]
  },
  {
   "cell_type": "code",
   "execution_count": 17,
   "metadata": {
    "ExecuteTime": {
     "end_time": "2020-07-27T01:57:38.425304Z",
     "start_time": "2020-07-27T01:57:38.417303Z"
    }
   },
   "outputs": [
    {
     "data": {
      "text/html": [
       "<div>\n",
       "<style scoped>\n",
       "    .dataframe tbody tr th:only-of-type {\n",
       "        vertical-align: middle;\n",
       "    }\n",
       "\n",
       "    .dataframe tbody tr th {\n",
       "        vertical-align: top;\n",
       "    }\n",
       "\n",
       "    .dataframe thead th {\n",
       "        text-align: right;\n",
       "    }\n",
       "</style>\n",
       "<table border=\"1\" class=\"dataframe\">\n",
       "  <thead>\n",
       "    <tr style=\"text-align: right;\">\n",
       "      <th></th>\n",
       "      <th>sepal length (cm)</th>\n",
       "      <th>sepal width (cm)</th>\n",
       "      <th>petal length (cm)</th>\n",
       "      <th>petal width (cm)</th>\n",
       "    </tr>\n",
       "  </thead>\n",
       "  <tbody>\n",
       "    <tr>\n",
       "      <th>145</th>\n",
       "      <td>6.7</td>\n",
       "      <td>3.0</td>\n",
       "      <td>5.2</td>\n",
       "      <td>2.3</td>\n",
       "    </tr>\n",
       "    <tr>\n",
       "      <th>146</th>\n",
       "      <td>6.3</td>\n",
       "      <td>2.5</td>\n",
       "      <td>5.0</td>\n",
       "      <td>1.9</td>\n",
       "    </tr>\n",
       "    <tr>\n",
       "      <th>147</th>\n",
       "      <td>6.5</td>\n",
       "      <td>3.0</td>\n",
       "      <td>5.2</td>\n",
       "      <td>2.0</td>\n",
       "    </tr>\n",
       "    <tr>\n",
       "      <th>148</th>\n",
       "      <td>6.2</td>\n",
       "      <td>3.4</td>\n",
       "      <td>5.4</td>\n",
       "      <td>2.3</td>\n",
       "    </tr>\n",
       "    <tr>\n",
       "      <th>149</th>\n",
       "      <td>5.9</td>\n",
       "      <td>3.0</td>\n",
       "      <td>5.1</td>\n",
       "      <td>1.8</td>\n",
       "    </tr>\n",
       "  </tbody>\n",
       "</table>\n",
       "</div>"
      ],
      "text/plain": [
       "     sepal length (cm)  sepal width (cm)  petal length (cm)  petal width (cm)\n",
       "145                6.7               3.0                5.2               2.3\n",
       "146                6.3               2.5                5.0               1.9\n",
       "147                6.5               3.0                5.2               2.0\n",
       "148                6.2               3.4                5.4               2.3\n",
       "149                5.9               3.0                5.1               1.8"
      ]
     },
     "execution_count": 17,
     "metadata": {},
     "output_type": "execute_result"
    }
   ],
   "source": [
    "df.tail()"
   ]
  },
  {
   "cell_type": "code",
   "execution_count": 18,
   "metadata": {
    "ExecuteTime": {
     "end_time": "2020-07-27T01:57:38.732300Z",
     "start_time": "2020-07-27T01:57:38.728333Z"
    }
   },
   "outputs": [],
   "source": [
    "test_data = np.array([6.7, 3.0, 5.2, 2.3]).reshape(1, 4)"
   ]
  },
  {
   "cell_type": "code",
   "execution_count": 19,
   "metadata": {
    "ExecuteTime": {
     "end_time": "2020-07-27T01:57:39.101306Z",
     "start_time": "2020-07-27T01:57:39.096303Z"
    }
   },
   "outputs": [],
   "source": [
    "index_lr = model_lr.predict(test_data)[0]\n",
    "index_svm = model_svm.predict(test_data)[0]\n",
    "index_dt = model_dt.predict(test_data)[0]"
   ]
  },
  {
   "cell_type": "code",
   "execution_count": 20,
   "metadata": {
    "ExecuteTime": {
     "end_time": "2020-07-27T01:57:39.436303Z",
     "start_time": "2020-07-27T01:57:39.433305Z"
    }
   },
   "outputs": [
    {
     "name": "stdout",
     "output_type": "stream",
     "text": [
      "Virginica Virginica Virginica\n"
     ]
    }
   ],
   "source": [
    "sp_names = ['Setosa', 'Versicolor', 'Virginica']\n",
    "print(sp_names[index_lr], sp_names[index_svm], sp_names[index_dt])"
   ]
  },
  {
   "cell_type": "markdown",
   "metadata": {},
   "source": [
    "## Deep Learning Model"
   ]
  },
  {
   "cell_type": "code",
   "execution_count": 21,
   "metadata": {
    "ExecuteTime": {
     "end_time": "2020-07-27T01:57:41.873309Z",
     "start_time": "2020-07-27T01:57:40.120300Z"
    }
   },
   "outputs": [
    {
     "name": "stdout",
     "output_type": "stream",
     "text": [
      "Model: \"sequential_1\"\n",
      "_________________________________________________________________\n",
      "Layer (type)                 Output Shape              Param #   \n",
      "=================================================================\n",
      "dense_1 (Dense)              (None, 12)                60        \n",
      "_________________________________________________________________\n",
      "dense_2 (Dense)              (None, 8)                 104       \n",
      "_________________________________________________________________\n",
      "dense_3 (Dense)              (None, 3)                 27        \n",
      "=================================================================\n",
      "Total params: 191\n",
      "Trainable params: 191\n",
      "Non-trainable params: 0\n",
      "_________________________________________________________________\n"
     ]
    },
    {
     "name": "stderr",
     "output_type": "stream",
     "text": [
      "Using TensorFlow backend.\n"
     ]
    }
   ],
   "source": [
    "# 딥러닝 모델 설정\n",
    "from tensorflow import keras\n",
    "from keras.models import Sequential\n",
    "from keras.layers import Dense\n",
    "\n",
    "model = Sequential([\n",
    "    Dense(12, input_shape=(4,), activation='relu'),\n",
    "    Dense(8, input_shape=(4,), activation='relu'),\n",
    "    Dense(3, activation='softmax')\n",
    "])\n",
    "model.summary()"
   ]
  },
  {
   "cell_type": "code",
   "execution_count": 22,
   "metadata": {
    "ExecuteTime": {
     "end_time": "2020-07-27T01:57:41.924299Z",
     "start_time": "2020-07-27T01:57:41.876304Z"
    }
   },
   "outputs": [],
   "source": [
    "# 모델 컴파일 \n",
    "model.compile(loss='categorical_crossentropy', \n",
    "              optimizer='adam',\n",
    "              metrics=['accuracy'])"
   ]
  },
  {
   "cell_type": "code",
   "execution_count": 23,
   "metadata": {
    "ExecuteTime": {
     "end_time": "2020-07-27T01:57:41.928300Z",
     "start_time": "2020-07-27T01:57:41.925299Z"
    }
   },
   "outputs": [],
   "source": [
    "from keras.callbacks import ModelCheckpoint\n",
    "checkpointer = ModelCheckpoint(filepath=\"model/iris_deep.hdf5\", \n",
    "                               monitor='val_loss', \n",
    "                               verbose=1, save_best_only=True)"
   ]
  },
  {
   "cell_type": "code",
   "execution_count": 24,
   "metadata": {
    "ExecuteTime": {
     "end_time": "2020-07-27T01:57:42.806302Z",
     "start_time": "2020-07-27T01:57:42.801300Z"
    }
   },
   "outputs": [
    {
     "data": {
      "text/plain": [
       "(array([1., 0., 0.], dtype=float32),\n",
       " array([0., 0., 1.], dtype=float32),\n",
       " array([0., 0., 1.], dtype=float32))"
      ]
     },
     "execution_count": 24,
     "metadata": {},
     "output_type": "execute_result"
    }
   ],
   "source": [
    "# One hot encoding\n",
    "Y_encoded = keras.utils.to_categorical(y_train)\n",
    "Y_encoded[0], Y_encoded[50], Y_encoded[100]"
   ]
  },
  {
   "cell_type": "code",
   "execution_count": 25,
   "metadata": {
    "ExecuteTime": {
     "end_time": "2020-07-27T01:57:47.780311Z",
     "start_time": "2020-07-27T01:57:43.089303Z"
    }
   },
   "outputs": [
    {
     "name": "stdout",
     "output_type": "stream",
     "text": [
      "Train on 96 samples, validate on 24 samples\n",
      "Epoch 1/100\n",
      " - 0s - loss: 2.0030 - accuracy: 0.3438 - val_loss: 2.0951 - val_accuracy: 0.2917\n",
      "\n",
      "Epoch 00001: val_loss improved from inf to 2.09509, saving model to model/iris_deep.hdf5\n",
      "Epoch 2/100\n",
      " - 0s - loss: 1.8110 - accuracy: 0.3438 - val_loss: 1.9153 - val_accuracy: 0.2917\n",
      "\n",
      "Epoch 00002: val_loss improved from 2.09509 to 1.91529, saving model to model/iris_deep.hdf5\n",
      "Epoch 3/100\n",
      " - 0s - loss: 1.6454 - accuracy: 0.3438 - val_loss: 1.7610 - val_accuracy: 0.2917\n",
      "\n",
      "Epoch 00003: val_loss improved from 1.91529 to 1.76096, saving model to model/iris_deep.hdf5\n",
      "Epoch 4/100\n",
      " - 0s - loss: 1.5007 - accuracy: 0.3438 - val_loss: 1.6314 - val_accuracy: 0.2917\n",
      "\n",
      "Epoch 00004: val_loss improved from 1.76096 to 1.63143, saving model to model/iris_deep.hdf5\n",
      "Epoch 5/100\n",
      " - 0s - loss: 1.3801 - accuracy: 0.3542 - val_loss: 1.5200 - val_accuracy: 0.2917\n",
      "\n",
      "Epoch 00005: val_loss improved from 1.63143 to 1.52004, saving model to model/iris_deep.hdf5\n",
      "Epoch 6/100\n",
      " - 0s - loss: 1.2846 - accuracy: 0.3750 - val_loss: 1.4240 - val_accuracy: 0.2917\n",
      "\n",
      "Epoch 00006: val_loss improved from 1.52004 to 1.42403, saving model to model/iris_deep.hdf5\n",
      "Epoch 7/100\n",
      " - 0s - loss: 1.1998 - accuracy: 0.4271 - val_loss: 1.3439 - val_accuracy: 0.4167\n",
      "\n",
      "Epoch 00007: val_loss improved from 1.42403 to 1.34385, saving model to model/iris_deep.hdf5\n",
      "Epoch 8/100\n",
      " - 0s - loss: 1.1334 - accuracy: 0.4688 - val_loss: 1.2741 - val_accuracy: 0.4583\n",
      "\n",
      "Epoch 00008: val_loss improved from 1.34385 to 1.27411, saving model to model/iris_deep.hdf5\n",
      "Epoch 9/100\n",
      " - 0s - loss: 1.0728 - accuracy: 0.5521 - val_loss: 1.2112 - val_accuracy: 0.4583\n",
      "\n",
      "Epoch 00009: val_loss improved from 1.27411 to 1.21120, saving model to model/iris_deep.hdf5\n",
      "Epoch 10/100\n",
      " - 0s - loss: 1.0240 - accuracy: 0.6042 - val_loss: 1.1533 - val_accuracy: 0.4583\n",
      "\n",
      "Epoch 00010: val_loss improved from 1.21120 to 1.15332, saving model to model/iris_deep.hdf5\n",
      "Epoch 11/100\n",
      " - 0s - loss: 0.9798 - accuracy: 0.6354 - val_loss: 1.1021 - val_accuracy: 0.5833\n",
      "\n",
      "Epoch 00011: val_loss improved from 1.15332 to 1.10208, saving model to model/iris_deep.hdf5\n",
      "Epoch 12/100\n",
      " - 0s - loss: 0.9387 - accuracy: 0.6562 - val_loss: 1.0558 - val_accuracy: 0.5833\n",
      "\n",
      "Epoch 00012: val_loss improved from 1.10208 to 1.05584, saving model to model/iris_deep.hdf5\n",
      "Epoch 13/100\n",
      " - 0s - loss: 0.9032 - accuracy: 0.6667 - val_loss: 1.0166 - val_accuracy: 0.5833\n",
      "\n",
      "Epoch 00013: val_loss improved from 1.05584 to 1.01656, saving model to model/iris_deep.hdf5\n",
      "Epoch 14/100\n",
      " - 0s - loss: 0.8726 - accuracy: 0.6667 - val_loss: 0.9797 - val_accuracy: 0.5833\n",
      "\n",
      "Epoch 00014: val_loss improved from 1.01656 to 0.97975, saving model to model/iris_deep.hdf5\n",
      "Epoch 15/100\n",
      " - 0s - loss: 0.8463 - accuracy: 0.6771 - val_loss: 0.9474 - val_accuracy: 0.5833\n",
      "\n",
      "Epoch 00015: val_loss improved from 0.97975 to 0.94739, saving model to model/iris_deep.hdf5\n",
      "Epoch 16/100\n",
      " - 0s - loss: 0.8213 - accuracy: 0.6771 - val_loss: 0.9202 - val_accuracy: 0.5833\n",
      "\n",
      "Epoch 00016: val_loss improved from 0.94739 to 0.92025, saving model to model/iris_deep.hdf5\n",
      "Epoch 17/100\n",
      " - 0s - loss: 0.7999 - accuracy: 0.6771 - val_loss: 0.8970 - val_accuracy: 0.5833\n",
      "\n",
      "Epoch 00017: val_loss improved from 0.92025 to 0.89705, saving model to model/iris_deep.hdf5\n",
      "Epoch 18/100\n",
      " - 0s - loss: 0.7819 - accuracy: 0.6771 - val_loss: 0.8755 - val_accuracy: 0.5833\n",
      "\n",
      "Epoch 00018: val_loss improved from 0.89705 to 0.87545, saving model to model/iris_deep.hdf5\n",
      "Epoch 19/100\n",
      " - 0s - loss: 0.7638 - accuracy: 0.6771 - val_loss: 0.8554 - val_accuracy: 0.5833\n",
      "\n",
      "Epoch 00019: val_loss improved from 0.87545 to 0.85539, saving model to model/iris_deep.hdf5\n",
      "Epoch 20/100\n",
      " - 0s - loss: 0.7474 - accuracy: 0.6771 - val_loss: 0.8334 - val_accuracy: 0.5833\n",
      "\n",
      "Epoch 00020: val_loss improved from 0.85539 to 0.83336, saving model to model/iris_deep.hdf5\n",
      "Epoch 21/100\n",
      " - 0s - loss: 0.7303 - accuracy: 0.6771 - val_loss: 0.8125 - val_accuracy: 0.5833\n",
      "\n",
      "Epoch 00021: val_loss improved from 0.83336 to 0.81247, saving model to model/iris_deep.hdf5\n",
      "Epoch 22/100\n",
      " - 0s - loss: 0.7163 - accuracy: 0.6771 - val_loss: 0.7920 - val_accuracy: 0.5833\n",
      "\n",
      "Epoch 00022: val_loss improved from 0.81247 to 0.79198, saving model to model/iris_deep.hdf5\n",
      "Epoch 23/100\n",
      " - 0s - loss: 0.7016 - accuracy: 0.6875 - val_loss: 0.7750 - val_accuracy: 0.5833\n",
      "\n",
      "Epoch 00023: val_loss improved from 0.79198 to 0.77498, saving model to model/iris_deep.hdf5\n",
      "Epoch 24/100\n",
      " - 0s - loss: 0.6884 - accuracy: 0.6875 - val_loss: 0.7610 - val_accuracy: 0.5833\n",
      "\n",
      "Epoch 00024: val_loss improved from 0.77498 to 0.76098, saving model to model/iris_deep.hdf5\n",
      "Epoch 25/100\n",
      " - 0s - loss: 0.6768 - accuracy: 0.6875 - val_loss: 0.7488 - val_accuracy: 0.5833\n",
      "\n",
      "Epoch 00025: val_loss improved from 0.76098 to 0.74881, saving model to model/iris_deep.hdf5\n",
      "Epoch 26/100\n",
      " - 0s - loss: 0.6663 - accuracy: 0.6875 - val_loss: 0.7347 - val_accuracy: 0.5833\n",
      "\n",
      "Epoch 00026: val_loss improved from 0.74881 to 0.73467, saving model to model/iris_deep.hdf5\n",
      "Epoch 27/100\n",
      " - 0s - loss: 0.6552 - accuracy: 0.6875 - val_loss: 0.7216 - val_accuracy: 0.5833\n",
      "\n",
      "Epoch 00027: val_loss improved from 0.73467 to 0.72165, saving model to model/iris_deep.hdf5\n",
      "Epoch 28/100\n",
      " - 0s - loss: 0.6458 - accuracy: 0.6875 - val_loss: 0.7090 - val_accuracy: 0.5833\n",
      "\n",
      "Epoch 00028: val_loss improved from 0.72165 to 0.70900, saving model to model/iris_deep.hdf5\n",
      "Epoch 29/100\n",
      " - 0s - loss: 0.6362 - accuracy: 0.6875 - val_loss: 0.6975 - val_accuracy: 0.5833\n",
      "\n",
      "Epoch 00029: val_loss improved from 0.70900 to 0.69753, saving model to model/iris_deep.hdf5\n",
      "Epoch 30/100\n",
      " - 0s - loss: 0.6281 - accuracy: 0.6875 - val_loss: 0.6860 - val_accuracy: 0.5833\n",
      "\n",
      "Epoch 00030: val_loss improved from 0.69753 to 0.68596, saving model to model/iris_deep.hdf5\n",
      "Epoch 31/100\n",
      " - 0s - loss: 0.6198 - accuracy: 0.6875 - val_loss: 0.6759 - val_accuracy: 0.5833\n",
      "\n",
      "Epoch 00031: val_loss improved from 0.68596 to 0.67585, saving model to model/iris_deep.hdf5\n",
      "Epoch 32/100\n",
      " - 0s - loss: 0.6122 - accuracy: 0.6875 - val_loss: 0.6659 - val_accuracy: 0.5833\n",
      "\n",
      "Epoch 00032: val_loss improved from 0.67585 to 0.66591, saving model to model/iris_deep.hdf5\n",
      "Epoch 33/100\n",
      " - 0s - loss: 0.6050 - accuracy: 0.6875 - val_loss: 0.6571 - val_accuracy: 0.5833\n",
      "\n",
      "Epoch 00033: val_loss improved from 0.66591 to 0.65706, saving model to model/iris_deep.hdf5\n",
      "Epoch 34/100\n",
      " - 0s - loss: 0.5980 - accuracy: 0.6875 - val_loss: 0.6467 - val_accuracy: 0.5833\n",
      "\n",
      "Epoch 00034: val_loss improved from 0.65706 to 0.64669, saving model to model/iris_deep.hdf5\n",
      "Epoch 35/100\n",
      " - 0s - loss: 0.5914 - accuracy: 0.6875 - val_loss: 0.6348 - val_accuracy: 0.5833\n",
      "\n",
      "Epoch 00035: val_loss improved from 0.64669 to 0.63476, saving model to model/iris_deep.hdf5\n",
      "Epoch 36/100\n",
      " - 0s - loss: 0.5850 - accuracy: 0.6875 - val_loss: 0.6235 - val_accuracy: 0.5833\n",
      "\n",
      "Epoch 00036: val_loss improved from 0.63476 to 0.62346, saving model to model/iris_deep.hdf5\n",
      "Epoch 37/100\n",
      " - 0s - loss: 0.5782 - accuracy: 0.6667 - val_loss: 0.6148 - val_accuracy: 0.5833\n",
      "\n",
      "Epoch 00037: val_loss improved from 0.62346 to 0.61484, saving model to model/iris_deep.hdf5\n",
      "Epoch 38/100\n",
      " - 0s - loss: 0.5734 - accuracy: 0.6875 - val_loss: 0.6078 - val_accuracy: 0.5833\n",
      "\n",
      "Epoch 00038: val_loss improved from 0.61484 to 0.60782, saving model to model/iris_deep.hdf5\n",
      "Epoch 39/100\n",
      " - 0s - loss: 0.5684 - accuracy: 0.7292 - val_loss: 0.6014 - val_accuracy: 0.6667\n",
      "\n",
      "Epoch 00039: val_loss improved from 0.60782 to 0.60141, saving model to model/iris_deep.hdf5\n",
      "Epoch 40/100\n",
      " - 0s - loss: 0.5633 - accuracy: 0.7083 - val_loss: 0.5951 - val_accuracy: 0.6250\n",
      "\n",
      "Epoch 00040: val_loss improved from 0.60141 to 0.59509, saving model to model/iris_deep.hdf5\n",
      "Epoch 41/100\n",
      " - 0s - loss: 0.5589 - accuracy: 0.7292 - val_loss: 0.5875 - val_accuracy: 0.7083\n",
      "\n",
      "Epoch 00041: val_loss improved from 0.59509 to 0.58746, saving model to model/iris_deep.hdf5\n",
      "Epoch 42/100\n",
      " - 0s - loss: 0.5550 - accuracy: 0.7083 - val_loss: 0.5808 - val_accuracy: 0.7500\n",
      "\n",
      "Epoch 00042: val_loss improved from 0.58746 to 0.58081, saving model to model/iris_deep.hdf5\n",
      "Epoch 43/100\n",
      " - 0s - loss: 0.5515 - accuracy: 0.7292 - val_loss: 0.5753 - val_accuracy: 0.7500\n",
      "\n",
      "Epoch 00043: val_loss improved from 0.58081 to 0.57531, saving model to model/iris_deep.hdf5\n",
      "Epoch 44/100\n",
      " - 0s - loss: 0.5470 - accuracy: 0.7500 - val_loss: 0.5714 - val_accuracy: 0.7500\n"
     ]
    },
    {
     "name": "stdout",
     "output_type": "stream",
     "text": [
      "\n",
      "Epoch 00044: val_loss improved from 0.57531 to 0.57140, saving model to model/iris_deep.hdf5\n",
      "Epoch 45/100\n",
      " - 0s - loss: 0.5429 - accuracy: 0.7500 - val_loss: 0.5678 - val_accuracy: 0.7500\n",
      "\n",
      "Epoch 00045: val_loss improved from 0.57140 to 0.56780, saving model to model/iris_deep.hdf5\n",
      "Epoch 46/100\n",
      " - 0s - loss: 0.5391 - accuracy: 0.7292 - val_loss: 0.5648 - val_accuracy: 0.7500\n",
      "\n",
      "Epoch 00046: val_loss improved from 0.56780 to 0.56481, saving model to model/iris_deep.hdf5\n",
      "Epoch 47/100\n",
      " - 0s - loss: 0.5350 - accuracy: 0.7292 - val_loss: 0.5616 - val_accuracy: 0.7917\n",
      "\n",
      "Epoch 00047: val_loss improved from 0.56481 to 0.56159, saving model to model/iris_deep.hdf5\n",
      "Epoch 48/100\n",
      " - 0s - loss: 0.5316 - accuracy: 0.7396 - val_loss: 0.5571 - val_accuracy: 0.7917\n",
      "\n",
      "Epoch 00048: val_loss improved from 0.56159 to 0.55708, saving model to model/iris_deep.hdf5\n",
      "Epoch 49/100\n",
      " - 0s - loss: 0.5278 - accuracy: 0.7604 - val_loss: 0.5530 - val_accuracy: 0.7917\n",
      "\n",
      "Epoch 00049: val_loss improved from 0.55708 to 0.55298, saving model to model/iris_deep.hdf5\n",
      "Epoch 50/100\n",
      " - 0s - loss: 0.5245 - accuracy: 0.7604 - val_loss: 0.5489 - val_accuracy: 0.7917\n",
      "\n",
      "Epoch 00050: val_loss improved from 0.55298 to 0.54893, saving model to model/iris_deep.hdf5\n",
      "Epoch 51/100\n",
      " - 0s - loss: 0.5212 - accuracy: 0.7604 - val_loss: 0.5451 - val_accuracy: 0.7917\n",
      "\n",
      "Epoch 00051: val_loss improved from 0.54893 to 0.54513, saving model to model/iris_deep.hdf5\n",
      "Epoch 52/100\n",
      " - 0s - loss: 0.5179 - accuracy: 0.7708 - val_loss: 0.5413 - val_accuracy: 0.7917\n",
      "\n",
      "Epoch 00052: val_loss improved from 0.54513 to 0.54132, saving model to model/iris_deep.hdf5\n",
      "Epoch 53/100\n",
      " - 0s - loss: 0.5144 - accuracy: 0.7708 - val_loss: 0.5385 - val_accuracy: 0.7917\n",
      "\n",
      "Epoch 00053: val_loss improved from 0.54132 to 0.53851, saving model to model/iris_deep.hdf5\n",
      "Epoch 54/100\n",
      " - 0s - loss: 0.5115 - accuracy: 0.7812 - val_loss: 0.5371 - val_accuracy: 0.7917\n",
      "\n",
      "Epoch 00054: val_loss improved from 0.53851 to 0.53709, saving model to model/iris_deep.hdf5\n",
      "Epoch 55/100\n",
      " - 0s - loss: 0.5079 - accuracy: 0.7708 - val_loss: 0.5343 - val_accuracy: 0.7917\n",
      "\n",
      "Epoch 00055: val_loss improved from 0.53709 to 0.53425, saving model to model/iris_deep.hdf5\n",
      "Epoch 56/100\n",
      " - 0s - loss: 0.5051 - accuracy: 0.7812 - val_loss: 0.5295 - val_accuracy: 0.7917\n",
      "\n",
      "Epoch 00056: val_loss improved from 0.53425 to 0.52953, saving model to model/iris_deep.hdf5\n",
      "Epoch 57/100\n",
      " - 0s - loss: 0.5016 - accuracy: 0.8125 - val_loss: 0.5249 - val_accuracy: 0.7917\n",
      "\n",
      "Epoch 00057: val_loss improved from 0.52953 to 0.52492, saving model to model/iris_deep.hdf5\n",
      "Epoch 58/100\n",
      " - 0s - loss: 0.4993 - accuracy: 0.7812 - val_loss: 0.5192 - val_accuracy: 0.8333\n",
      "\n",
      "Epoch 00058: val_loss improved from 0.52492 to 0.51925, saving model to model/iris_deep.hdf5\n",
      "Epoch 59/100\n",
      " - 0s - loss: 0.4969 - accuracy: 0.7917 - val_loss: 0.5148 - val_accuracy: 0.8333\n",
      "\n",
      "Epoch 00059: val_loss improved from 0.51925 to 0.51477, saving model to model/iris_deep.hdf5\n",
      "Epoch 60/100\n",
      " - 0s - loss: 0.4934 - accuracy: 0.7917 - val_loss: 0.5125 - val_accuracy: 0.8333\n",
      "\n",
      "Epoch 00060: val_loss improved from 0.51477 to 0.51254, saving model to model/iris_deep.hdf5\n",
      "Epoch 61/100\n",
      " - 0s - loss: 0.4898 - accuracy: 0.7917 - val_loss: 0.5090 - val_accuracy: 0.8333\n",
      "\n",
      "Epoch 00061: val_loss improved from 0.51254 to 0.50900, saving model to model/iris_deep.hdf5\n",
      "Epoch 62/100\n",
      " - 0s - loss: 0.4866 - accuracy: 0.8125 - val_loss: 0.5052 - val_accuracy: 0.8333\n",
      "\n",
      "Epoch 00062: val_loss improved from 0.50900 to 0.50518, saving model to model/iris_deep.hdf5\n",
      "Epoch 63/100\n",
      " - 0s - loss: 0.4841 - accuracy: 0.8125 - val_loss: 0.5021 - val_accuracy: 0.8333\n",
      "\n",
      "Epoch 00063: val_loss improved from 0.50518 to 0.50210, saving model to model/iris_deep.hdf5\n",
      "Epoch 64/100\n",
      " - 0s - loss: 0.4817 - accuracy: 0.8229 - val_loss: 0.5009 - val_accuracy: 0.8333\n",
      "\n",
      "Epoch 00064: val_loss improved from 0.50210 to 0.50092, saving model to model/iris_deep.hdf5\n",
      "Epoch 65/100\n",
      " - 0s - loss: 0.4782 - accuracy: 0.8333 - val_loss: 0.4978 - val_accuracy: 0.8333\n",
      "\n",
      "Epoch 00065: val_loss improved from 0.50092 to 0.49780, saving model to model/iris_deep.hdf5\n",
      "Epoch 66/100\n",
      " - 0s - loss: 0.4755 - accuracy: 0.8542 - val_loss: 0.4944 - val_accuracy: 0.8333\n",
      "\n",
      "Epoch 00066: val_loss improved from 0.49780 to 0.49436, saving model to model/iris_deep.hdf5\n",
      "Epoch 67/100\n",
      " - 0s - loss: 0.4721 - accuracy: 0.8542 - val_loss: 0.4927 - val_accuracy: 0.8333\n",
      "\n",
      "Epoch 00067: val_loss improved from 0.49436 to 0.49269, saving model to model/iris_deep.hdf5\n",
      "Epoch 68/100\n",
      " - 0s - loss: 0.4700 - accuracy: 0.8854 - val_loss: 0.4923 - val_accuracy: 0.8750\n",
      "\n",
      "Epoch 00068: val_loss improved from 0.49269 to 0.49229, saving model to model/iris_deep.hdf5\n",
      "Epoch 69/100\n",
      " - 0s - loss: 0.4665 - accuracy: 0.8854 - val_loss: 0.4901 - val_accuracy: 0.8750\n",
      "\n",
      "Epoch 00069: val_loss improved from 0.49229 to 0.49015, saving model to model/iris_deep.hdf5\n",
      "Epoch 70/100\n",
      " - 0s - loss: 0.4637 - accuracy: 0.8854 - val_loss: 0.4888 - val_accuracy: 0.9167\n",
      "\n",
      "Epoch 00070: val_loss improved from 0.49015 to 0.48878, saving model to model/iris_deep.hdf5\n",
      "Epoch 71/100\n",
      " - 0s - loss: 0.4607 - accuracy: 0.8854 - val_loss: 0.4866 - val_accuracy: 0.9167\n",
      "\n",
      "Epoch 00071: val_loss improved from 0.48878 to 0.48657, saving model to model/iris_deep.hdf5\n",
      "Epoch 72/100\n",
      " - 0s - loss: 0.4577 - accuracy: 0.8958 - val_loss: 0.4847 - val_accuracy: 0.9167\n",
      "\n",
      "Epoch 00072: val_loss improved from 0.48657 to 0.48466, saving model to model/iris_deep.hdf5\n",
      "Epoch 73/100\n",
      " - 0s - loss: 0.4558 - accuracy: 0.8750 - val_loss: 0.4833 - val_accuracy: 0.9583\n",
      "\n",
      "Epoch 00073: val_loss improved from 0.48466 to 0.48329, saving model to model/iris_deep.hdf5\n",
      "Epoch 74/100\n",
      " - 0s - loss: 0.4527 - accuracy: 0.8750 - val_loss: 0.4786 - val_accuracy: 0.9167\n",
      "\n",
      "Epoch 00074: val_loss improved from 0.48329 to 0.47860, saving model to model/iris_deep.hdf5\n",
      "Epoch 75/100\n",
      " - 0s - loss: 0.4498 - accuracy: 0.9167 - val_loss: 0.4745 - val_accuracy: 0.9167\n",
      "\n",
      "Epoch 00075: val_loss improved from 0.47860 to 0.47451, saving model to model/iris_deep.hdf5\n",
      "Epoch 76/100\n",
      " - 0s - loss: 0.4468 - accuracy: 0.9167 - val_loss: 0.4725 - val_accuracy: 0.9583\n",
      "\n",
      "Epoch 00076: val_loss improved from 0.47451 to 0.47252, saving model to model/iris_deep.hdf5\n",
      "Epoch 77/100\n",
      " - 0s - loss: 0.4440 - accuracy: 0.9271 - val_loss: 0.4684 - val_accuracy: 0.9583\n",
      "\n",
      "Epoch 00077: val_loss improved from 0.47252 to 0.46843, saving model to model/iris_deep.hdf5\n",
      "Epoch 78/100\n",
      " - 0s - loss: 0.4412 - accuracy: 0.9375 - val_loss: 0.4640 - val_accuracy: 0.9167\n",
      "\n",
      "Epoch 00078: val_loss improved from 0.46843 to 0.46405, saving model to model/iris_deep.hdf5\n",
      "Epoch 79/100\n",
      " - 0s - loss: 0.4383 - accuracy: 0.9479 - val_loss: 0.4611 - val_accuracy: 0.9167\n",
      "\n",
      "Epoch 00079: val_loss improved from 0.46405 to 0.46114, saving model to model/iris_deep.hdf5\n",
      "Epoch 80/100\n",
      " - 0s - loss: 0.4356 - accuracy: 0.9583 - val_loss: 0.4584 - val_accuracy: 0.9583\n",
      "\n",
      "Epoch 00080: val_loss improved from 0.46114 to 0.45836, saving model to model/iris_deep.hdf5\n",
      "Epoch 81/100\n",
      " - 0s - loss: 0.4329 - accuracy: 0.9688 - val_loss: 0.4547 - val_accuracy: 0.9583\n",
      "\n",
      "Epoch 00081: val_loss improved from 0.45836 to 0.45465, saving model to model/iris_deep.hdf5\n",
      "Epoch 82/100\n",
      " - 0s - loss: 0.4304 - accuracy: 0.9583 - val_loss: 0.4512 - val_accuracy: 0.9583\n",
      "\n",
      "Epoch 00082: val_loss improved from 0.45465 to 0.45120, saving model to model/iris_deep.hdf5\n",
      "Epoch 83/100\n",
      " - 0s - loss: 0.4279 - accuracy: 0.9688 - val_loss: 0.4498 - val_accuracy: 0.9583\n",
      "\n",
      "Epoch 00083: val_loss improved from 0.45120 to 0.44981, saving model to model/iris_deep.hdf5\n",
      "Epoch 84/100\n",
      " - 0s - loss: 0.4253 - accuracy: 0.9583 - val_loss: 0.4469 - val_accuracy: 0.9583\n",
      "\n",
      "Epoch 00084: val_loss improved from 0.44981 to 0.44688, saving model to model/iris_deep.hdf5\n",
      "Epoch 85/100\n",
      " - 0s - loss: 0.4225 - accuracy: 0.9688 - val_loss: 0.4419 - val_accuracy: 0.9583\n",
      "\n",
      "Epoch 00085: val_loss improved from 0.44688 to 0.44190, saving model to model/iris_deep.hdf5\n",
      "Epoch 86/100\n",
      " - 0s - loss: 0.4199 - accuracy: 0.9688 - val_loss: 0.4381 - val_accuracy: 0.9583\n",
      "\n",
      "Epoch 00086: val_loss improved from 0.44190 to 0.43811, saving model to model/iris_deep.hdf5\n",
      "Epoch 87/100\n",
      " - 0s - loss: 0.4175 - accuracy: 0.9688 - val_loss: 0.4360 - val_accuracy: 0.9583\n",
      "\n",
      "Epoch 00087: val_loss improved from 0.43811 to 0.43600, saving model to model/iris_deep.hdf5\n"
     ]
    },
    {
     "name": "stdout",
     "output_type": "stream",
     "text": [
      "Epoch 88/100\n",
      " - 0s - loss: 0.4153 - accuracy: 0.9688 - val_loss: 0.4348 - val_accuracy: 0.9583\n",
      "\n",
      "Epoch 00088: val_loss improved from 0.43600 to 0.43479, saving model to model/iris_deep.hdf5\n",
      "Epoch 89/100\n",
      " - 0s - loss: 0.4126 - accuracy: 0.9688 - val_loss: 0.4316 - val_accuracy: 0.9583\n",
      "\n",
      "Epoch 00089: val_loss improved from 0.43479 to 0.43160, saving model to model/iris_deep.hdf5\n",
      "Epoch 90/100\n",
      " - 0s - loss: 0.4101 - accuracy: 0.9583 - val_loss: 0.4286 - val_accuracy: 0.9583\n",
      "\n",
      "Epoch 00090: val_loss improved from 0.43160 to 0.42856, saving model to model/iris_deep.hdf5\n",
      "Epoch 91/100\n",
      " - 0s - loss: 0.4076 - accuracy: 0.9688 - val_loss: 0.4241 - val_accuracy: 0.9583\n",
      "\n",
      "Epoch 00091: val_loss improved from 0.42856 to 0.42412, saving model to model/iris_deep.hdf5\n",
      "Epoch 92/100\n",
      " - 0s - loss: 0.4053 - accuracy: 0.9688 - val_loss: 0.4206 - val_accuracy: 0.9583\n",
      "\n",
      "Epoch 00092: val_loss improved from 0.42412 to 0.42058, saving model to model/iris_deep.hdf5\n",
      "Epoch 93/100\n",
      " - 0s - loss: 0.4033 - accuracy: 0.9688 - val_loss: 0.4190 - val_accuracy: 0.9583\n",
      "\n",
      "Epoch 00093: val_loss improved from 0.42058 to 0.41900, saving model to model/iris_deep.hdf5\n",
      "Epoch 94/100\n",
      " - 0s - loss: 0.4002 - accuracy: 0.9688 - val_loss: 0.4145 - val_accuracy: 1.0000\n",
      "\n",
      "Epoch 00094: val_loss improved from 0.41900 to 0.41448, saving model to model/iris_deep.hdf5\n",
      "Epoch 95/100\n",
      " - 0s - loss: 0.3982 - accuracy: 0.9479 - val_loss: 0.4104 - val_accuracy: 1.0000\n",
      "\n",
      "Epoch 00095: val_loss improved from 0.41448 to 0.41041, saving model to model/iris_deep.hdf5\n",
      "Epoch 96/100\n",
      " - 0s - loss: 0.3953 - accuracy: 0.9583 - val_loss: 0.4088 - val_accuracy: 1.0000\n",
      "\n",
      "Epoch 00096: val_loss improved from 0.41041 to 0.40881, saving model to model/iris_deep.hdf5\n",
      "Epoch 97/100\n",
      " - 0s - loss: 0.3931 - accuracy: 0.9688 - val_loss: 0.4066 - val_accuracy: 0.9583\n",
      "\n",
      "Epoch 00097: val_loss improved from 0.40881 to 0.40661, saving model to model/iris_deep.hdf5\n",
      "Epoch 98/100\n",
      " - 0s - loss: 0.3904 - accuracy: 0.9688 - val_loss: 0.4031 - val_accuracy: 1.0000\n",
      "\n",
      "Epoch 00098: val_loss improved from 0.40661 to 0.40305, saving model to model/iris_deep.hdf5\n",
      "Epoch 99/100\n",
      " - 0s - loss: 0.3878 - accuracy: 0.9688 - val_loss: 0.4003 - val_accuracy: 1.0000\n",
      "\n",
      "Epoch 00099: val_loss improved from 0.40305 to 0.40025, saving model to model/iris_deep.hdf5\n",
      "Epoch 100/100\n",
      " - 0s - loss: 0.3853 - accuracy: 0.9688 - val_loss: 0.3983 - val_accuracy: 0.9583\n",
      "\n",
      "Epoch 00100: val_loss improved from 0.40025 to 0.39828, saving model to model/iris_deep.hdf5\n"
     ]
    },
    {
     "data": {
      "text/plain": [
       "<keras.callbacks.callbacks.History at 0x20a90855f48>"
      ]
     },
     "execution_count": 25,
     "metadata": {},
     "output_type": "execute_result"
    }
   ],
   "source": [
    "# 모델 학습\n",
    "model.fit(x_train, Y_encoded, epochs=100, batch_size=30, verbose=2,\n",
    "          validation_split=0.2, callbacks=[checkpointer])"
   ]
  },
  {
   "cell_type": "code",
   "execution_count": 26,
   "metadata": {
    "ExecuteTime": {
     "end_time": "2020-07-27T01:57:48.228308Z",
     "start_time": "2020-07-27T01:57:47.781301Z"
    }
   },
   "outputs": [],
   "source": [
    "from keras.models import load_model\n",
    "model_deep = load_model(\"model/iris_deep.hdf5\")"
   ]
  },
  {
   "cell_type": "code",
   "execution_count": 27,
   "metadata": {
    "ExecuteTime": {
     "end_time": "2020-07-27T01:57:48.236300Z",
     "start_time": "2020-07-27T01:57:48.229299Z"
    }
   },
   "outputs": [
    {
     "name": "stdout",
     "output_type": "stream",
     "text": [
      "\r",
      "30/30 [==============================] - 0s 0us/step\n"
     ]
    },
    {
     "data": {
      "text/plain": [
       "0.9666666388511658"
      ]
     },
     "execution_count": 27,
     "metadata": {},
     "output_type": "execute_result"
    }
   ],
   "source": [
    "model.evaluate(x_test, keras.utils.to_categorical(y_test))[1]"
   ]
  },
  {
   "cell_type": "code",
   "execution_count": 33,
   "metadata": {
    "ExecuteTime": {
     "end_time": "2020-07-27T01:59:25.037301Z",
     "start_time": "2020-07-27T01:59:25.032299Z"
    }
   },
   "outputs": [
    {
     "data": {
      "text/plain": [
       "2"
      ]
     },
     "execution_count": 33,
     "metadata": {},
     "output_type": "execute_result"
    }
   ],
   "source": [
    "model_deep.predict_classes(test_data)[0]"
   ]
  },
  {
   "cell_type": "code",
   "execution_count": 29,
   "metadata": {
    "ExecuteTime": {
     "end_time": "2020-07-27T01:57:49.781333Z",
     "start_time": "2020-07-27T01:57:49.776300Z"
    }
   },
   "outputs": [
    {
     "data": {
      "text/plain": [
       "array([[0.01460547, 0.4366685 , 0.5487261 ]], dtype=float32)"
      ]
     },
     "execution_count": 29,
     "metadata": {},
     "output_type": "execute_result"
    }
   ],
   "source": [
    "model_deep.predict(test_data)"
   ]
  },
  {
   "cell_type": "code",
   "execution_count": 30,
   "metadata": {
    "ExecuteTime": {
     "end_time": "2020-07-27T01:57:50.191303Z",
     "start_time": "2020-07-27T01:57:50.185304Z"
    }
   },
   "outputs": [
    {
     "data": {
      "text/plain": [
       "2"
      ]
     },
     "execution_count": 30,
     "metadata": {},
     "output_type": "execute_result"
    }
   ],
   "source": [
    "np.argmax(model_deep.predict(test_data)[0])"
   ]
  },
  {
   "cell_type": "code",
   "execution_count": null,
   "metadata": {},
   "outputs": [],
   "source": []
  },
  {
   "cell_type": "code",
   "execution_count": null,
   "metadata": {},
   "outputs": [],
   "source": []
  }
 ],
 "metadata": {
  "kernelspec": {
   "display_name": "Python 3",
   "language": "python",
   "name": "python3"
  },
  "language_info": {
   "codemirror_mode": {
    "name": "ipython",
    "version": 3
   },
   "file_extension": ".py",
   "mimetype": "text/x-python",
   "name": "python",
   "nbconvert_exporter": "python",
   "pygments_lexer": "ipython3",
   "version": "3.7.7"
  },
  "toc": {
   "base_numbering": 1,
   "nav_menu": {},
   "number_sections": true,
   "sideBar": true,
   "skip_h1_title": false,
   "title_cell": "Table of Contents",
   "title_sidebar": "Contents",
   "toc_cell": false,
   "toc_position": {},
   "toc_section_display": true,
   "toc_window_display": false
  }
 },
 "nbformat": 4,
 "nbformat_minor": 4
}
