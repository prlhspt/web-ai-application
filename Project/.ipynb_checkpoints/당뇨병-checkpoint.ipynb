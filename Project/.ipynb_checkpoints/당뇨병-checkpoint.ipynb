{
 "cells": [
  {
   "cell_type": "markdown",
   "metadata": {},
   "source": [
    "# 3장 피마 인디언 당뇨병 예측"
   ]
  },
  {
   "cell_type": "code",
   "execution_count": 1,
   "metadata": {},
   "outputs": [],
   "source": [
    "from sklearn.model_selection import train_test_split\n",
    "from sklearn.metrics import precision_recall_curve,roc_curve,f1_score,confusion_matrix\n",
    "from sklearn.metrics import precision_score, recall_score , roc_auc_score\n",
    "from sklearn.preprocessing import StandardScaler , Binarizer\n",
    "from sklearn.linear_model import LogisticRegression\n",
    "from sklearn.metrics import accuracy_score\n",
    "import pandas as pd\n",
    "import matplotlib.pyplot as plt\n",
    "import numpy as np\n",
    "import joblib"
   ]
  },
  {
   "cell_type": "code",
   "execution_count": 2,
   "metadata": {},
   "outputs": [],
   "source": [
    "def get_eval_by_threshold(y_test,pred_proba_c1,thresholds):\n",
    "    # thersholds list객체 내의 값을 차례로 iteration하면서Evaluation수행\n",
    "    for custom_threshold in thresholds:\n",
    "        binarizer = Binarizer(threshold=custom_threshold).fit(pred_proba_c1)\n",
    "        custom_predict = binarizer.transform(pred_proba_c1)\n",
    "        print('임계값 :',custom_threshold)\n",
    "        get_clf_eval(y_test,custom_predict,pred_proba_c1)"
   ]
  },
  {
   "cell_type": "code",
   "execution_count": 3,
   "metadata": {},
   "outputs": [],
   "source": [
    "def precision_recall_curve_plot(y_test, pred_proba_c1):\n",
    "    # threshold ndarray와 이 threshold에 따른 정밀도, 재현율 ndarray 추출.\n",
    "    precisions,recalls,thresholds = precision_recall_curve(y_test,pred_proba_c1)\n",
    "    \n",
    "    # X 축을 threshold값으로, Y축은 정밀도, 재현율 값으로 각각 Plot 수행. 정밀도는 점선으로 표시\n",
    "    \n",
    "    plt.figure(figsize=(8,6))\n",
    "    thresholds_boundary = thresholds.shape[0]\n",
    "    plt.plot(thresholds,precisions[0:thresholds_boundary], linestyle='--',label = 'precision')\n",
    "    plt.plot(thresholds,recalls[0:thresholds_boundary],label='recall')\n",
    "    \n",
    "    # threshold 값  X 축의 Scale을 0.1 단위로 변경\n",
    "    start ,end = plt.xlim()\n",
    "    plt.xticks(np.round(np.arange(start,end,0.1),2))\n",
    "    \n",
    "    # X축, Y축 label과 legend 그리고 grid 설정\n",
    "    plt.xlabel('Threshold value');plt.ylabel('Precision and Recall value')\n",
    "    plt.legend();plt.grid()\n",
    "    plt.show()"
   ]
  },
  {
   "cell_type": "code",
   "execution_count": 4,
   "metadata": {},
   "outputs": [],
   "source": [
    "def get_clf_eval(y_test,pred = None , pred_proba = None):\n",
    "    confusion = confusion_matrix(y_test,pred)\n",
    "    accuracy = accuracy_score(y_test,pred)\n",
    "    precision = precision_score(y_test,pred)\n",
    "    recall = recall_score(y_test,pred)\n",
    "    f1 = f1_score(y_test,pred)\n",
    "    # ROC-AUC 추가\n",
    "    roc_auc = roc_auc_score(y_test,pred_proba)\n",
    "    print('오차행렬')\n",
    "    print(confusion)\n",
    "    print('정확도 : {0:.4f},정밀도 : {1:.4f}, 재현율 : {2:.4f},\\\n",
    "    F1 : {3:.4f}, AUC : {4:.4f}'.format(accuracy,precision,recall,f1,roc_auc))"
   ]
  },
  {
   "cell_type": "code",
   "execution_count": 5,
   "metadata": {},
   "outputs": [
    {
     "name": "stdout",
     "output_type": "stream",
     "text": [
      "0    500\n",
      "1    268\n",
      "Name: Outcome, dtype: int64\n"
     ]
    },
    {
     "data": {
      "text/html": [
       "<div>\n",
       "<style scoped>\n",
       "    .dataframe tbody tr th:only-of-type {\n",
       "        vertical-align: middle;\n",
       "    }\n",
       "\n",
       "    .dataframe tbody tr th {\n",
       "        vertical-align: top;\n",
       "    }\n",
       "\n",
       "    .dataframe thead th {\n",
       "        text-align: right;\n",
       "    }\n",
       "</style>\n",
       "<table border=\"1\" class=\"dataframe\">\n",
       "  <thead>\n",
       "    <tr style=\"text-align: right;\">\n",
       "      <th></th>\n",
       "      <th>Pregnancies</th>\n",
       "      <th>Glucose</th>\n",
       "      <th>BloodPressure</th>\n",
       "      <th>SkinThickness</th>\n",
       "      <th>Insulin</th>\n",
       "      <th>BMI</th>\n",
       "      <th>DiabetesPedigreeFunction</th>\n",
       "      <th>Age</th>\n",
       "      <th>Outcome</th>\n",
       "    </tr>\n",
       "  </thead>\n",
       "  <tbody>\n",
       "    <tr>\n",
       "      <th>0</th>\n",
       "      <td>6</td>\n",
       "      <td>148</td>\n",
       "      <td>72</td>\n",
       "      <td>35</td>\n",
       "      <td>0</td>\n",
       "      <td>33.6</td>\n",
       "      <td>0.627</td>\n",
       "      <td>50</td>\n",
       "      <td>1</td>\n",
       "    </tr>\n",
       "    <tr>\n",
       "      <th>1</th>\n",
       "      <td>1</td>\n",
       "      <td>85</td>\n",
       "      <td>66</td>\n",
       "      <td>29</td>\n",
       "      <td>0</td>\n",
       "      <td>26.6</td>\n",
       "      <td>0.351</td>\n",
       "      <td>31</td>\n",
       "      <td>0</td>\n",
       "    </tr>\n",
       "    <tr>\n",
       "      <th>2</th>\n",
       "      <td>8</td>\n",
       "      <td>183</td>\n",
       "      <td>64</td>\n",
       "      <td>0</td>\n",
       "      <td>0</td>\n",
       "      <td>23.3</td>\n",
       "      <td>0.672</td>\n",
       "      <td>32</td>\n",
       "      <td>1</td>\n",
       "    </tr>\n",
       "  </tbody>\n",
       "</table>\n",
       "</div>"
      ],
      "text/plain": [
       "   Pregnancies  Glucose  BloodPressure  SkinThickness  Insulin   BMI  \\\n",
       "0            6      148             72             35        0  33.6   \n",
       "1            1       85             66             29        0  26.6   \n",
       "2            8      183             64              0        0  23.3   \n",
       "\n",
       "   DiabetesPedigreeFunction  Age  Outcome  \n",
       "0                     0.627   50        1  \n",
       "1                     0.351   31        0  \n",
       "2                     0.672   32        1  "
      ]
     },
     "execution_count": 5,
     "metadata": {},
     "output_type": "execute_result"
    }
   ],
   "source": [
    "diabetes_data = pd.read_csv('./data/diabetes.csv')\n",
    "print(diabetes_data['Outcome'].value_counts())\n",
    "diabetes_data.head(3)"
   ]
  },
  {
   "cell_type": "code",
   "execution_count": 6,
   "metadata": {},
   "outputs": [
    {
     "name": "stdout",
     "output_type": "stream",
     "text": [
      "<class 'pandas.core.frame.DataFrame'>\n",
      "RangeIndex: 768 entries, 0 to 767\n",
      "Data columns (total 9 columns):\n",
      " #   Column                    Non-Null Count  Dtype  \n",
      "---  ------                    --------------  -----  \n",
      " 0   Pregnancies               768 non-null    int64  \n",
      " 1   Glucose                   768 non-null    int64  \n",
      " 2   BloodPressure             768 non-null    int64  \n",
      " 3   SkinThickness             768 non-null    int64  \n",
      " 4   Insulin                   768 non-null    int64  \n",
      " 5   BMI                       768 non-null    float64\n",
      " 6   DiabetesPedigreeFunction  768 non-null    float64\n",
      " 7   Age                       768 non-null    int64  \n",
      " 8   Outcome                   768 non-null    int64  \n",
      "dtypes: float64(2), int64(7)\n",
      "memory usage: 54.1 KB\n"
     ]
    }
   ],
   "source": [
    "diabetes_data.info()"
   ]
  },
  {
   "cell_type": "code",
   "execution_count": 7,
   "metadata": {},
   "outputs": [
    {
     "name": "stdout",
     "output_type": "stream",
     "text": [
      "오차행렬\n",
      "[[90 10]\n",
      " [21 33]]\n",
      "정확도 : 0.7987,정밀도 : 0.7674, 재현율 : 0.6111,    F1 : 0.6804, AUC : 0.8072\n"
     ]
    }
   ],
   "source": [
    "# 피처 데이터 세트 x, 레이블 데이터 세트 yfmf 추출.\n",
    "# 맨 끝이 Outcome 칼럼으로 레이블 값임. 칼럼 위치 -1을 이용해 추출\n",
    "X = diabetes_data.iloc[:, :-1]\n",
    "y = diabetes_data.iloc[:,-1]\n",
    "\n",
    "X_train, X_test, y_train, y_test = train_test_split(X,y,test_size = 0.2 , random_state=156,stratify =y)\n",
    "\n",
    "# 로지스틱 회귀로 학습, 예측 및 평가 수행\n",
    "lr_clf = LogisticRegression(max_iter=1000)\n",
    "lr_clf.fit(X_train,y_train)\n",
    "pred = lr_clf.predict(X_test)\n",
    "pred_proba = lr_clf.predict_proba(X_test)[:,1]\n",
    "\n",
    "get_clf_eval(y_test,pred,pred_proba)"
   ]
  },
  {
   "cell_type": "code",
   "execution_count": 8,
   "metadata": {},
   "outputs": [
    {
     "data": {
      "image/png": "[encoded data removed]",
      "text/plain": [
       "<Figure size 576x432 with 1 Axes>"
      ]
     },
     "metadata": {
      "needs_background": "light"
     },
     "output_type": "display_data"
    }
   ],
   "source": [
    "pred_proba_c1 = lr_clf.predict_proba(X_test)[:,1]\n",
    "precision_recall_curve_plot(y_test,pred_proba_c1)"
   ]
  },
  {
   "cell_type": "code",
   "execution_count": 9,
   "metadata": {},
   "outputs": [
    {
     "data": {
      "text/html": [
       "<div>\n",
       "<style scoped>\n",
       "    .dataframe tbody tr th:only-of-type {\n",
       "        vertical-align: middle;\n",
       "    }\n",
       "\n",
       "    .dataframe tbody tr th {\n",
       "        vertical-align: top;\n",
       "    }\n",
       "\n",
       "    .dataframe thead th {\n",
       "        text-align: right;\n",
       "    }\n",
       "</style>\n",
       "<table border=\"1\" class=\"dataframe\">\n",
       "  <thead>\n",
       "    <tr style=\"text-align: right;\">\n",
       "      <th></th>\n",
       "      <th>Pregnancies</th>\n",
       "      <th>Glucose</th>\n",
       "      <th>BloodPressure</th>\n",
       "      <th>SkinThickness</th>\n",
       "      <th>Insulin</th>\n",
       "      <th>BMI</th>\n",
       "      <th>DiabetesPedigreeFunction</th>\n",
       "      <th>Age</th>\n",
       "      <th>Outcome</th>\n",
       "    </tr>\n",
       "  </thead>\n",
       "  <tbody>\n",
       "    <tr>\n",
       "      <th>count</th>\n",
       "      <td>768.000000</td>\n",
       "      <td>768.000000</td>\n",
       "      <td>768.000000</td>\n",
       "      <td>768.000000</td>\n",
       "      <td>768.000000</td>\n",
       "      <td>768.000000</td>\n",
       "      <td>768.000000</td>\n",
       "      <td>768.000000</td>\n",
       "      <td>768.000000</td>\n",
       "    </tr>\n",
       "    <tr>\n",
       "      <th>mean</th>\n",
       "      <td>3.845052</td>\n",
       "      <td>120.894531</td>\n",
       "      <td>69.105469</td>\n",
       "      <td>20.536458</td>\n",
       "      <td>79.799479</td>\n",
       "      <td>31.992578</td>\n",
       "      <td>0.471876</td>\n",
       "      <td>33.240885</td>\n",
       "      <td>0.348958</td>\n",
       "    </tr>\n",
       "    <tr>\n",
       "      <th>std</th>\n",
       "      <td>3.369578</td>\n",
       "      <td>31.972618</td>\n",
       "      <td>19.355807</td>\n",
       "      <td>15.952218</td>\n",
       "      <td>115.244002</td>\n",
       "      <td>7.884160</td>\n",
       "      <td>0.331329</td>\n",
       "      <td>11.760232</td>\n",
       "      <td>0.476951</td>\n",
       "    </tr>\n",
       "    <tr>\n",
       "      <th>min</th>\n",
       "      <td>0.000000</td>\n",
       "      <td>0.000000</td>\n",
       "      <td>0.000000</td>\n",
       "      <td>0.000000</td>\n",
       "      <td>0.000000</td>\n",
       "      <td>0.000000</td>\n",
       "      <td>0.078000</td>\n",
       "      <td>21.000000</td>\n",
       "      <td>0.000000</td>\n",
       "    </tr>\n",
       "    <tr>\n",
       "      <th>25%</th>\n",
       "      <td>1.000000</td>\n",
       "      <td>99.000000</td>\n",
       "      <td>62.000000</td>\n",
       "      <td>0.000000</td>\n",
       "      <td>0.000000</td>\n",
       "      <td>27.300000</td>\n",
       "      <td>0.243750</td>\n",
       "      <td>24.000000</td>\n",
       "      <td>0.000000</td>\n",
       "    </tr>\n",
       "    <tr>\n",
       "      <th>50%</th>\n",
       "      <td>3.000000</td>\n",
       "      <td>117.000000</td>\n",
       "      <td>72.000000</td>\n",
       "      <td>23.000000</td>\n",
       "      <td>30.500000</td>\n",
       "      <td>32.000000</td>\n",
       "      <td>0.372500</td>\n",
       "      <td>29.000000</td>\n",
       "      <td>0.000000</td>\n",
       "    </tr>\n",
       "    <tr>\n",
       "      <th>75%</th>\n",
       "      <td>6.000000</td>\n",
       "      <td>140.250000</td>\n",
       "      <td>80.000000</td>\n",
       "      <td>32.000000</td>\n",
       "      <td>127.250000</td>\n",
       "      <td>36.600000</td>\n",
       "      <td>0.626250</td>\n",
       "      <td>41.000000</td>\n",
       "      <td>1.000000</td>\n",
       "    </tr>\n",
       "    <tr>\n",
       "      <th>max</th>\n",
       "      <td>17.000000</td>\n",
       "      <td>199.000000</td>\n",
       "      <td>122.000000</td>\n",
       "      <td>99.000000</td>\n",
       "      <td>846.000000</td>\n",
       "      <td>67.100000</td>\n",
       "      <td>2.420000</td>\n",
       "      <td>81.000000</td>\n",
       "      <td>1.000000</td>\n",
       "    </tr>\n",
       "  </tbody>\n",
       "</table>\n",
       "</div>"
      ],
      "text/plain": [
       "       Pregnancies     Glucose  BloodPressure  SkinThickness     Insulin  \\\n",
       "count   768.000000  768.000000     768.000000     768.000000  768.000000   \n",
       "mean      3.845052  120.894531      69.105469      20.536458   79.799479   \n",
       "std       3.369578   31.972618      19.355807      15.952218  115.244002   \n",
       "min       0.000000    0.000000       0.000000       0.000000    0.000000   \n",
       "25%       1.000000   99.000000      62.000000       0.000000    0.000000   \n",
       "50%       3.000000  117.000000      72.000000      23.000000   30.500000   \n",
       "75%       6.000000  140.250000      80.000000      32.000000  127.250000   \n",
       "max      17.000000  199.000000     122.000000      99.000000  846.000000   \n",
       "\n",
       "              BMI  DiabetesPedigreeFunction         Age     Outcome  \n",
       "count  768.000000                768.000000  768.000000  768.000000  \n",
       "mean    31.992578                  0.471876   33.240885    0.348958  \n",
       "std      7.884160                  0.331329   11.760232    0.476951  \n",
       "min      0.000000                  0.078000   21.000000    0.000000  \n",
       "25%     27.300000                  0.243750   24.000000    0.000000  \n",
       "50%     32.000000                  0.372500   29.000000    0.000000  \n",
       "75%     36.600000                  0.626250   41.000000    1.000000  \n",
       "max     67.100000                  2.420000   81.000000    1.000000  "
      ]
     },
     "execution_count": 9,
     "metadata": {},
     "output_type": "execute_result"
    }
   ],
   "source": [
    "diabetes_data.describe()"
   ]
  },
  {
   "cell_type": "code",
   "execution_count": 10,
   "metadata": {},
   "outputs": [
    {
     "data": {
      "text/plain": [
       "(array([  5.,   0.,   4.,  32., 156., 211., 163.,  95.,  56.,  46.]),\n",
       " array([  0. ,  19.9,  39.8,  59.7,  79.6,  99.5, 119.4, 139.3, 159.2,\n",
       "        179.1, 199. ]),\n",
       " <a list of 10 Patch objects>)"
      ]
     },
     "execution_count": 10,
     "metadata": {},
     "output_type": "execute_result"
    },
    {
     "data": {
      "image/png": "[encoded data removed]",
      "text/plain": [
       "<Figure size 432x288 with 1 Axes>"
      ]
     },
     "metadata": {
      "needs_background": "light"
     },
     "output_type": "display_data"
    }
   ],
   "source": [
    "plt.hist(diabetes_data['Glucose'],bins=10)"
   ]
  },
  {
   "cell_type": "code",
   "execution_count": 11,
   "metadata": {},
   "outputs": [
    {
     "name": "stdout",
     "output_type": "stream",
     "text": [
      "Glucose 0 건수는 5, 퍼센트는 0.65 %\n",
      "BloodPressure 0 건수는 35, 퍼센트는 4.56 %\n",
      "SkinThickness 0 건수는 227, 퍼센트는 29.56 %\n",
      "Insulin 0 건수는 374, 퍼센트는 48.70 %\n",
      "BMI 0 건수는 11, 퍼센트는 1.43 %\n"
     ]
    }
   ],
   "source": [
    "# 0 값을 검사할 피처 명 리스트\n",
    "zero_features = ['Glucose','BloodPressure','SkinThickness','Insulin','BMI']\n",
    "\n",
    "# 전체 데이터 건수\n",
    "total_count = diabetes_data['Glucose'].count()\n",
    "\n",
    "# 피처별로 반복하면서 데이터 값이 0인 데이터 건수를 추출하고, 퍼센트 계산\n",
    "for feature in zero_features:\n",
    "    zero_count  = diabetes_data[diabetes_data[feature] == 0][feature].count()\n",
    "    print('{0} 0 건수는 {1}, 퍼센트는 {2:.2f} %'.format(feature,zero_count,100*zero_count/total_count))"
   ]
  },
  {
   "cell_type": "code",
   "execution_count": 12,
   "metadata": {},
   "outputs": [],
   "source": [
    "# zero_feature 리스트 내부에 저장된 개별 피처들에 대해서 0값을 평균 값으로 대체\n",
    "mean_zero_features = diabetes_data[zero_features].mean()\n",
    "diabetes_data[zero_features]= diabetes_data[zero_features].replace(0,mean_zero_features)"
   ]
  },
  {
   "cell_type": "code",
   "execution_count": 13,
   "metadata": {},
   "outputs": [
    {
     "data": {
      "text/plain": [
       "['model/diabetes_lr.pkl']"
      ]
     },
     "execution_count": 13,
     "metadata": {},
     "output_type": "execute_result"
    }
   ],
   "source": [
    "x = diabetes_data.loc[:,['Glucose','BloodPressure','BMI', 'Age']]\n",
    "y = diabetes_data.iloc[:,-1]\n",
    "\n",
    "# StandardScaler 클래스를 이용해 피처 데이터 세트에 일괄적으로 스케일링 적용\n",
    "scaler = StandardScaler()\n",
    "X_scaled = scaler.fit_transform(x)\n",
    "\n",
    "X_train, X_test, y_train, y_test = train_test_split(X_scaled,y,test_size = 0.2 , random_state=156,stratify =y)\n",
    "\n",
    "# 로지스틱 회귀로 학습, 예측 및 평가 수행\n",
    "lr = LogisticRegression()\n",
    "lr.fit(X_train,y_train)\n",
    "\n",
    "joblib.dump(lr, 'model/diabetes_lr.pkl')"
   ]
  },
  {
   "cell_type": "code",
   "execution_count": 14,
   "metadata": {},
   "outputs": [
    {
     "data": {
      "text/plain": [
       "['model/diabetes_svm.pkl']"
      ]
     },
     "execution_count": 14,
     "metadata": {},
     "output_type": "execute_result"
    }
   ],
   "source": [
    "from sklearn.svm import SVC\n",
    "svc = SVC()\n",
    "svc.fit(X_train, y_train)\n",
    "joblib.dump(svc, 'model/diabetes_svm.pkl')"
   ]
  },
  {
   "cell_type": "code",
   "execution_count": 15,
   "metadata": {},
   "outputs": [
    {
     "data": {
      "text/plain": [
       "['model/diabetes_dtc.pkl']"
      ]
     },
     "execution_count": 15,
     "metadata": {},
     "output_type": "execute_result"
    }
   ],
   "source": [
    "from sklearn.tree import DecisionTreeClassifier\n",
    "dtc = DecisionTreeClassifier()\n",
    "dtc.fit(X_train, y_train)\n",
    "joblib.dump(dtc, 'model/diabetes_dtc.pkl')"
   ]
  },
  {
   "cell_type": "code",
   "execution_count": 16,
   "metadata": {},
   "outputs": [],
   "source": [
    "model_lr = joblib.load('model/diabetes_lr.pkl')\n",
    "model_svm = joblib.load('model/diabetes_svm.pkl')\n",
    "model_dt = joblib.load('model/diabetes_dtc.pkl')"
   ]
  },
  {
   "cell_type": "code",
   "execution_count": 17,
   "metadata": {},
   "outputs": [],
   "source": [
    "y_pred_lr = model_lr.predict(X_test)\n",
    "y_pred_svm = model_svm.predict(X_test)\n",
    "y_pred_dt = model_dt.predict(X_test)"
   ]
  },
  {
   "cell_type": "code",
   "execution_count": 18,
   "metadata": {},
   "outputs": [
    {
     "name": "stdout",
     "output_type": "stream",
     "text": [
      "0.7857142857142857 0.7987012987012987 0.6753246753246753\n"
     ]
    }
   ],
   "source": [
    "from sklearn.metrics import accuracy_score\n",
    "acc_lr = accuracy_score(y_test, y_pred_lr)\n",
    "acc_svm = accuracy_score(y_test, y_pred_svm)\n",
    "acc_dt = accuracy_score(y_test, y_pred_dt)\n",
    "print(acc_lr, acc_svm, acc_dt)"
   ]
  },
  {
   "cell_type": "code",
   "execution_count": 45,
   "metadata": {},
   "outputs": [
    {
     "data": {
      "text/html": [
       "<div>\n",
       "<style scoped>\n",
       "    .dataframe tbody tr th:only-of-type {\n",
       "        vertical-align: middle;\n",
       "    }\n",
       "\n",
       "    .dataframe tbody tr th {\n",
       "        vertical-align: top;\n",
       "    }\n",
       "\n",
       "    .dataframe thead th {\n",
       "        text-align: right;\n",
       "    }\n",
       "</style>\n",
       "<table border=\"1\" class=\"dataframe\">\n",
       "  <thead>\n",
       "    <tr style=\"text-align: right;\">\n",
       "      <th></th>\n",
       "      <th>Pregnancies</th>\n",
       "      <th>Glucose</th>\n",
       "      <th>BloodPressure</th>\n",
       "      <th>SkinThickness</th>\n",
       "      <th>Insulin</th>\n",
       "      <th>BMI</th>\n",
       "      <th>DiabetesPedigreeFunction</th>\n",
       "      <th>Age</th>\n",
       "      <th>Outcome</th>\n",
       "    </tr>\n",
       "  </thead>\n",
       "  <tbody>\n",
       "    <tr>\n",
       "      <th>0</th>\n",
       "      <td>6</td>\n",
       "      <td>148.0</td>\n",
       "      <td>72.0</td>\n",
       "      <td>35.000000</td>\n",
       "      <td>79.799479</td>\n",
       "      <td>33.6</td>\n",
       "      <td>0.627</td>\n",
       "      <td>50</td>\n",
       "      <td>1</td>\n",
       "    </tr>\n",
       "    <tr>\n",
       "      <th>1</th>\n",
       "      <td>1</td>\n",
       "      <td>85.0</td>\n",
       "      <td>66.0</td>\n",
       "      <td>29.000000</td>\n",
       "      <td>79.799479</td>\n",
       "      <td>26.6</td>\n",
       "      <td>0.351</td>\n",
       "      <td>31</td>\n",
       "      <td>0</td>\n",
       "    </tr>\n",
       "    <tr>\n",
       "      <th>2</th>\n",
       "      <td>8</td>\n",
       "      <td>183.0</td>\n",
       "      <td>64.0</td>\n",
       "      <td>20.536458</td>\n",
       "      <td>79.799479</td>\n",
       "      <td>23.3</td>\n",
       "      <td>0.672</td>\n",
       "      <td>32</td>\n",
       "      <td>1</td>\n",
       "    </tr>\n",
       "    <tr>\n",
       "      <th>3</th>\n",
       "      <td>1</td>\n",
       "      <td>89.0</td>\n",
       "      <td>66.0</td>\n",
       "      <td>23.000000</td>\n",
       "      <td>94.000000</td>\n",
       "      <td>28.1</td>\n",
       "      <td>0.167</td>\n",
       "      <td>21</td>\n",
       "      <td>0</td>\n",
       "    </tr>\n",
       "    <tr>\n",
       "      <th>4</th>\n",
       "      <td>0</td>\n",
       "      <td>137.0</td>\n",
       "      <td>40.0</td>\n",
       "      <td>35.000000</td>\n",
       "      <td>168.000000</td>\n",
       "      <td>43.1</td>\n",
       "      <td>2.288</td>\n",
       "      <td>33</td>\n",
       "      <td>1</td>\n",
       "    </tr>\n",
       "  </tbody>\n",
       "</table>\n",
       "</div>"
      ],
      "text/plain": [
       "   Pregnancies  Glucose  BloodPressure  SkinThickness     Insulin   BMI  \\\n",
       "0            6    148.0           72.0      35.000000   79.799479  33.6   \n",
       "1            1     85.0           66.0      29.000000   79.799479  26.6   \n",
       "2            8    183.0           64.0      20.536458   79.799479  23.3   \n",
       "3            1     89.0           66.0      23.000000   94.000000  28.1   \n",
       "4            0    137.0           40.0      35.000000  168.000000  43.1   \n",
       "\n",
       "   DiabetesPedigreeFunction  Age  Outcome  \n",
       "0                     0.627   50        1  \n",
       "1                     0.351   31        0  \n",
       "2                     0.672   32        1  \n",
       "3                     0.167   21        0  \n",
       "4                     2.288   33        1  "
      ]
     },
     "execution_count": 45,
     "metadata": {},
     "output_type": "execute_result"
    }
   ],
   "source": [
    "diabetes_data.head()"
   ]
  },
  {
   "cell_type": "code",
   "execution_count": 60,
   "metadata": {},
   "outputs": [],
   "source": [
    "test_data = np.array([89.0,66.0,28.1,21]).reshape(1, 4)"
   ]
  },
  {
   "cell_type": "code",
   "execution_count": 61,
   "metadata": {},
   "outputs": [],
   "source": [
    "index_lr = model_lr.predict(test_data)[0]\n",
    "index_svm = model_svm.predict(test_data)[0]\n",
    "index_dt = model_dt.predict(test_data)[0]"
   ]
  },
  {
   "cell_type": "code",
   "execution_count": 62,
   "metadata": {},
   "outputs": [
    {
     "name": "stdout",
     "output_type": "stream",
     "text": [
      "부정 긍정 긍정\n"
     ]
    }
   ],
   "source": [
    "sp_names = ['긍정','부정']\n",
    "print(sp_names[index_lr], sp_names[index_svm], sp_names[index_dt])"
   ]
  },
  {
   "cell_type": "code",
   "execution_count": 23,
   "metadata": {},
   "outputs": [
    {
     "name": "stdout",
     "output_type": "stream",
     "text": [
      "Model: \"sequential_1\"\n",
      "_________________________________________________________________\n",
      "Layer (type)                 Output Shape              Param #   \n",
      "=================================================================\n",
      "dense_1 (Dense)              (None, 50)                250       \n",
      "_________________________________________________________________\n",
      "dense_2 (Dense)              (None, 30)                1530      \n",
      "_________________________________________________________________\n",
      "dense_3 (Dense)              (None, 1)                 31        \n",
      "=================================================================\n",
      "Total params: 1,811\n",
      "Trainable params: 1,811\n",
      "Non-trainable params: 0\n",
      "_________________________________________________________________\n"
     ]
    },
    {
     "name": "stderr",
     "output_type": "stream",
     "text": [
      "Using TensorFlow backend.\n"
     ]
    }
   ],
   "source": [
    "# 딥러닝 모델 설정\n",
    "from tensorflow import keras\n",
    "from keras.models import Sequential\n",
    "from keras.layers import Dense\n",
    "\n",
    "model = Sequential([\n",
    "    Dense(50, input_shape=(4,), activation='relu'),\n",
    "    Dense(30, input_shape=(4,), activation='relu'),\n",
    "    Dense(1, activation='sigmoid')\n",
    "])\n",
    "model.summary()"
   ]
  },
  {
   "cell_type": "code",
   "execution_count": 24,
   "metadata": {},
   "outputs": [],
   "source": [
    "# 모델 컴파일 \n",
    "model.compile(loss='binary_crossentropy', \n",
    "              optimizer='adam',\n",
    "              metrics=['accuracy'])"
   ]
  },
  {
   "cell_type": "code",
   "execution_count": 25,
   "metadata": {},
   "outputs": [],
   "source": [
    "from keras.callbacks import ModelCheckpoint\n",
    "checkpointer = ModelCheckpoint(filepath=\"model/diabetes_deep.hdf5\", \n",
    "                               monitor='val_loss', \n",
    "                               verbose=1, save_best_only=True)"
   ]
  },
  {
   "cell_type": "code",
   "execution_count": 26,
   "metadata": {},
   "outputs": [
    {
     "name": "stdout",
     "output_type": "stream",
     "text": [
      "Train on 491 samples, validate on 123 samples\n",
      "Epoch 1/100\n",
      " - 0s - loss: 0.6714 - accuracy: 0.5784 - val_loss: 0.6100 - val_accuracy: 0.8049\n",
      "\n",
      "Epoch 00001: val_loss improved from inf to 0.60996, saving model to model/diabetes_deep.hdf5\n",
      "Epoch 2/100\n",
      " - 0s - loss: 0.5924 - accuracy: 0.7434 - val_loss: 0.5529 - val_accuracy: 0.7967\n",
      "\n",
      "Epoch 00002: val_loss improved from 0.60996 to 0.55295, saving model to model/diabetes_deep.hdf5\n",
      "Epoch 3/100\n",
      " - 0s - loss: 0.5404 - accuracy: 0.7536 - val_loss: 0.5186 - val_accuracy: 0.7642\n",
      "\n",
      "Epoch 00003: val_loss improved from 0.55295 to 0.51863, saving model to model/diabetes_deep.hdf5\n",
      "Epoch 4/100\n",
      " - 0s - loss: 0.5056 - accuracy: 0.7597 - val_loss: 0.4998 - val_accuracy: 0.7561\n",
      "\n",
      "Epoch 00004: val_loss improved from 0.51863 to 0.49985, saving model to model/diabetes_deep.hdf5\n",
      "Epoch 5/100\n",
      " - 0s - loss: 0.4868 - accuracy: 0.7637 - val_loss: 0.4803 - val_accuracy: 0.7805\n",
      "\n",
      "Epoch 00005: val_loss improved from 0.49985 to 0.48028, saving model to model/diabetes_deep.hdf5\n",
      "Epoch 6/100\n",
      " - 0s - loss: 0.4789 - accuracy: 0.7597 - val_loss: 0.4808 - val_accuracy: 0.7805\n",
      "\n",
      "Epoch 00006: val_loss did not improve from 0.48028\n",
      "Epoch 7/100\n",
      " - 0s - loss: 0.4754 - accuracy: 0.7515 - val_loss: 0.4800 - val_accuracy: 0.7805\n",
      "\n",
      "Epoch 00007: val_loss improved from 0.48028 to 0.47999, saving model to model/diabetes_deep.hdf5\n",
      "Epoch 8/100\n",
      " - 0s - loss: 0.4741 - accuracy: 0.7556 - val_loss: 0.4727 - val_accuracy: 0.7886\n",
      "\n",
      "Epoch 00008: val_loss improved from 0.47999 to 0.47273, saving model to model/diabetes_deep.hdf5\n",
      "Epoch 9/100\n",
      " - 0s - loss: 0.4717 - accuracy: 0.7515 - val_loss: 0.4812 - val_accuracy: 0.7724\n",
      "\n",
      "Epoch 00009: val_loss did not improve from 0.47273\n",
      "Epoch 10/100\n",
      " - 0s - loss: 0.4695 - accuracy: 0.7515 - val_loss: 0.4786 - val_accuracy: 0.7805\n",
      "\n",
      "Epoch 00010: val_loss did not improve from 0.47273\n",
      "Epoch 11/100\n",
      " - 0s - loss: 0.4676 - accuracy: 0.7495 - val_loss: 0.4757 - val_accuracy: 0.7642\n",
      "\n",
      "Epoch 00011: val_loss did not improve from 0.47273\n",
      "Epoch 12/100\n",
      " - 0s - loss: 0.4665 - accuracy: 0.7495 - val_loss: 0.4747 - val_accuracy: 0.7724\n",
      "\n",
      "Epoch 00012: val_loss did not improve from 0.47273\n",
      "Epoch 13/100\n",
      " - 0s - loss: 0.4665 - accuracy: 0.7495 - val_loss: 0.4758 - val_accuracy: 0.7805\n",
      "\n",
      "Epoch 00013: val_loss did not improve from 0.47273\n",
      "Epoch 14/100\n",
      " - 0s - loss: 0.4649 - accuracy: 0.7495 - val_loss: 0.4689 - val_accuracy: 0.7805\n",
      "\n",
      "Epoch 00014: val_loss improved from 0.47273 to 0.46893, saving model to model/diabetes_deep.hdf5\n",
      "Epoch 15/100\n",
      " - 0s - loss: 0.4640 - accuracy: 0.7515 - val_loss: 0.4751 - val_accuracy: 0.7805\n",
      "\n",
      "Epoch 00015: val_loss did not improve from 0.46893\n",
      "Epoch 16/100\n",
      " - 0s - loss: 0.4625 - accuracy: 0.7556 - val_loss: 0.4788 - val_accuracy: 0.7724\n",
      "\n",
      "Epoch 00016: val_loss did not improve from 0.46893\n",
      "Epoch 17/100\n",
      " - 0s - loss: 0.4610 - accuracy: 0.7617 - val_loss: 0.4721 - val_accuracy: 0.7967\n",
      "\n",
      "Epoch 00017: val_loss did not improve from 0.46893\n",
      "Epoch 18/100\n",
      " - 0s - loss: 0.4598 - accuracy: 0.7597 - val_loss: 0.4738 - val_accuracy: 0.7967\n",
      "\n",
      "Epoch 00018: val_loss did not improve from 0.46893\n",
      "Epoch 19/100\n",
      " - 0s - loss: 0.4589 - accuracy: 0.7617 - val_loss: 0.4759 - val_accuracy: 0.7886\n",
      "\n",
      "Epoch 00019: val_loss did not improve from 0.46893\n",
      "Epoch 20/100\n",
      " - 0s - loss: 0.4578 - accuracy: 0.7617 - val_loss: 0.4749 - val_accuracy: 0.7805\n",
      "\n",
      "Epoch 00020: val_loss did not improve from 0.46893\n",
      "Epoch 21/100\n",
      " - 0s - loss: 0.4568 - accuracy: 0.7536 - val_loss: 0.4790 - val_accuracy: 0.7886\n",
      "\n",
      "Epoch 00021: val_loss did not improve from 0.46893\n",
      "Epoch 22/100\n",
      " - 0s - loss: 0.4560 - accuracy: 0.7617 - val_loss: 0.4728 - val_accuracy: 0.7967\n",
      "\n",
      "Epoch 00022: val_loss did not improve from 0.46893\n",
      "Epoch 23/100\n",
      " - 0s - loss: 0.4552 - accuracy: 0.7658 - val_loss: 0.4780 - val_accuracy: 0.7886\n",
      "\n",
      "Epoch 00023: val_loss did not improve from 0.46893\n",
      "Epoch 24/100\n",
      " - 0s - loss: 0.4540 - accuracy: 0.7658 - val_loss: 0.4850 - val_accuracy: 0.7805\n",
      "\n",
      "Epoch 00024: val_loss did not improve from 0.46893\n",
      "Epoch 25/100\n",
      " - 0s - loss: 0.4538 - accuracy: 0.7658 - val_loss: 0.4749 - val_accuracy: 0.7967\n",
      "\n",
      "Epoch 00025: val_loss did not improve from 0.46893\n",
      "Epoch 26/100\n",
      " - 0s - loss: 0.4533 - accuracy: 0.7637 - val_loss: 0.4710 - val_accuracy: 0.8049\n",
      "\n",
      "Epoch 00026: val_loss did not improve from 0.46893\n",
      "Epoch 27/100\n",
      " - 0s - loss: 0.4529 - accuracy: 0.7658 - val_loss: 0.4798 - val_accuracy: 0.7886\n",
      "\n",
      "Epoch 00027: val_loss did not improve from 0.46893\n",
      "Epoch 28/100\n",
      " - 0s - loss: 0.4508 - accuracy: 0.7658 - val_loss: 0.4761 - val_accuracy: 0.7967\n",
      "\n",
      "Epoch 00028: val_loss did not improve from 0.46893\n",
      "Epoch 29/100\n",
      " - 0s - loss: 0.4519 - accuracy: 0.7658 - val_loss: 0.4744 - val_accuracy: 0.7967\n",
      "\n",
      "Epoch 00029: val_loss did not improve from 0.46893\n",
      "Epoch 30/100\n",
      " - 0s - loss: 0.4499 - accuracy: 0.7658 - val_loss: 0.4814 - val_accuracy: 0.7886\n",
      "\n",
      "Epoch 00030: val_loss did not improve from 0.46893\n",
      "Epoch 31/100\n",
      " - 0s - loss: 0.4497 - accuracy: 0.7637 - val_loss: 0.4729 - val_accuracy: 0.7967\n",
      "\n",
      "Epoch 00031: val_loss did not improve from 0.46893\n",
      "Epoch 32/100\n",
      " - 0s - loss: 0.4485 - accuracy: 0.7699 - val_loss: 0.4690 - val_accuracy: 0.7967\n",
      "\n",
      "Epoch 00032: val_loss did not improve from 0.46893\n",
      "Epoch 33/100\n",
      " - 0s - loss: 0.4470 - accuracy: 0.7719 - val_loss: 0.4808 - val_accuracy: 0.8049\n",
      "\n",
      "Epoch 00033: val_loss did not improve from 0.46893\n",
      "Epoch 34/100\n",
      " - 0s - loss: 0.4464 - accuracy: 0.7699 - val_loss: 0.4727 - val_accuracy: 0.8049\n",
      "\n",
      "Epoch 00034: val_loss did not improve from 0.46893\n",
      "Epoch 35/100\n",
      " - 0s - loss: 0.4460 - accuracy: 0.7678 - val_loss: 0.4762 - val_accuracy: 0.7967\n",
      "\n",
      "Epoch 00035: val_loss did not improve from 0.46893\n",
      "Epoch 36/100\n",
      " - 0s - loss: 0.4456 - accuracy: 0.7699 - val_loss: 0.4743 - val_accuracy: 0.8049\n",
      "\n",
      "Epoch 00036: val_loss did not improve from 0.46893\n",
      "Epoch 37/100\n",
      " - 0s - loss: 0.4447 - accuracy: 0.7678 - val_loss: 0.4791 - val_accuracy: 0.8049\n",
      "\n",
      "Epoch 00037: val_loss did not improve from 0.46893\n",
      "Epoch 38/100\n",
      " - 0s - loss: 0.4433 - accuracy: 0.7576 - val_loss: 0.4735 - val_accuracy: 0.7642\n",
      "\n",
      "Epoch 00038: val_loss did not improve from 0.46893\n",
      "Epoch 39/100\n",
      " - 0s - loss: 0.4436 - accuracy: 0.7699 - val_loss: 0.4711 - val_accuracy: 0.7967\n",
      "\n",
      "Epoch 00039: val_loss did not improve from 0.46893\n",
      "Epoch 40/100\n",
      " - 0s - loss: 0.4419 - accuracy: 0.7739 - val_loss: 0.4830 - val_accuracy: 0.7886\n",
      "\n",
      "Epoch 00040: val_loss did not improve from 0.46893\n",
      "Epoch 41/100\n",
      " - 0s - loss: 0.4420 - accuracy: 0.7739 - val_loss: 0.4780 - val_accuracy: 0.7805\n",
      "\n",
      "Epoch 00041: val_loss did not improve from 0.46893\n",
      "Epoch 42/100\n",
      " - 0s - loss: 0.4399 - accuracy: 0.7760 - val_loss: 0.4800 - val_accuracy: 0.7805\n",
      "\n",
      "Epoch 00042: val_loss did not improve from 0.46893\n",
      "Epoch 43/100\n",
      " - 0s - loss: 0.4395 - accuracy: 0.7719 - val_loss: 0.4770 - val_accuracy: 0.7805\n",
      "\n",
      "Epoch 00043: val_loss did not improve from 0.46893\n",
      "Epoch 44/100\n",
      " - 0s - loss: 0.4390 - accuracy: 0.7760 - val_loss: 0.4810 - val_accuracy: 0.7886\n",
      "\n",
      "Epoch 00044: val_loss did not improve from 0.46893\n",
      "Epoch 45/100\n",
      " - 0s - loss: 0.4376 - accuracy: 0.7760 - val_loss: 0.4700 - val_accuracy: 0.7805\n",
      "\n",
      "Epoch 00045: val_loss did not improve from 0.46893\n",
      "Epoch 46/100\n",
      " - 0s - loss: 0.4370 - accuracy: 0.7800 - val_loss: 0.4779 - val_accuracy: 0.7805\n",
      "\n",
      "Epoch 00046: val_loss did not improve from 0.46893\n",
      "Epoch 47/100\n",
      " - 0s - loss: 0.4364 - accuracy: 0.7780 - val_loss: 0.4766 - val_accuracy: 0.7805\n",
      "\n",
      "Epoch 00047: val_loss did not improve from 0.46893\n",
      "Epoch 48/100\n",
      " - 0s - loss: 0.4353 - accuracy: 0.7780 - val_loss: 0.4748 - val_accuracy: 0.7886\n",
      "\n",
      "Epoch 00048: val_loss did not improve from 0.46893\n",
      "Epoch 49/100\n",
      " - 0s - loss: 0.4344 - accuracy: 0.7841 - val_loss: 0.4824 - val_accuracy: 0.7967\n",
      "\n",
      "Epoch 00049: val_loss did not improve from 0.46893\n",
      "Epoch 50/100\n",
      " - 0s - loss: 0.4339 - accuracy: 0.7841 - val_loss: 0.4775 - val_accuracy: 0.7805\n",
      "\n",
      "Epoch 00050: val_loss did not improve from 0.46893\n",
      "Epoch 51/100\n",
      " - 0s - loss: 0.4334 - accuracy: 0.7841 - val_loss: 0.4855 - val_accuracy: 0.7967\n",
      "\n",
      "Epoch 00051: val_loss did not improve from 0.46893\n",
      "Epoch 52/100\n",
      " - 0s - loss: 0.4323 - accuracy: 0.7862 - val_loss: 0.4751 - val_accuracy: 0.7805\n",
      "\n",
      "Epoch 00052: val_loss did not improve from 0.46893\n",
      "Epoch 53/100\n",
      " - 0s - loss: 0.4330 - accuracy: 0.7800 - val_loss: 0.4777 - val_accuracy: 0.7724\n",
      "\n",
      "Epoch 00053: val_loss did not improve from 0.46893\n",
      "Epoch 54/100\n",
      " - 0s - loss: 0.4304 - accuracy: 0.7821 - val_loss: 0.4749 - val_accuracy: 0.7886\n"
     ]
    },
    {
     "name": "stdout",
     "output_type": "stream",
     "text": [
      "\n",
      "Epoch 00054: val_loss did not improve from 0.46893\n",
      "Epoch 55/100\n",
      " - 0s - loss: 0.4299 - accuracy: 0.7862 - val_loss: 0.4738 - val_accuracy: 0.7967\n",
      "\n",
      "Epoch 00055: val_loss did not improve from 0.46893\n",
      "Epoch 56/100\n",
      " - 0s - loss: 0.4291 - accuracy: 0.7902 - val_loss: 0.4831 - val_accuracy: 0.7967\n",
      "\n",
      "Epoch 00056: val_loss did not improve from 0.46893\n",
      "Epoch 57/100\n",
      " - 0s - loss: 0.4282 - accuracy: 0.7862 - val_loss: 0.4740 - val_accuracy: 0.7805\n",
      "\n",
      "Epoch 00057: val_loss did not improve from 0.46893\n",
      "Epoch 58/100\n",
      " - 0s - loss: 0.4278 - accuracy: 0.7923 - val_loss: 0.4769 - val_accuracy: 0.7724\n",
      "\n",
      "Epoch 00058: val_loss did not improve from 0.46893\n",
      "Epoch 59/100\n",
      " - 0s - loss: 0.4259 - accuracy: 0.7902 - val_loss: 0.4777 - val_accuracy: 0.7805\n",
      "\n",
      "Epoch 00059: val_loss did not improve from 0.46893\n",
      "Epoch 60/100\n",
      " - 0s - loss: 0.4251 - accuracy: 0.7902 - val_loss: 0.4745 - val_accuracy: 0.7967\n",
      "\n",
      "Epoch 00060: val_loss did not improve from 0.46893\n",
      "Epoch 61/100\n",
      " - 0s - loss: 0.4249 - accuracy: 0.7923 - val_loss: 0.4724 - val_accuracy: 0.7886\n",
      "\n",
      "Epoch 00061: val_loss did not improve from 0.46893\n",
      "Epoch 62/100\n",
      " - 0s - loss: 0.4239 - accuracy: 0.7943 - val_loss: 0.4763 - val_accuracy: 0.7805\n",
      "\n",
      "Epoch 00062: val_loss did not improve from 0.46893\n",
      "Epoch 63/100\n",
      " - 0s - loss: 0.4234 - accuracy: 0.7984 - val_loss: 0.4734 - val_accuracy: 0.7967\n",
      "\n",
      "Epoch 00063: val_loss did not improve from 0.46893\n",
      "Epoch 64/100\n",
      " - 0s - loss: 0.4232 - accuracy: 0.7963 - val_loss: 0.4770 - val_accuracy: 0.7805\n",
      "\n",
      "Epoch 00064: val_loss did not improve from 0.46893\n",
      "Epoch 65/100\n",
      " - 0s - loss: 0.4226 - accuracy: 0.7923 - val_loss: 0.4665 - val_accuracy: 0.7805\n",
      "\n",
      "Epoch 00065: val_loss improved from 0.46893 to 0.46645, saving model to model/diabetes_deep.hdf5\n",
      "Epoch 66/100\n",
      " - 0s - loss: 0.4224 - accuracy: 0.7943 - val_loss: 0.4832 - val_accuracy: 0.7805\n",
      "\n",
      "Epoch 00066: val_loss did not improve from 0.46645\n",
      "Epoch 67/100\n",
      " - 0s - loss: 0.4196 - accuracy: 0.7943 - val_loss: 0.4688 - val_accuracy: 0.7805\n",
      "\n",
      "Epoch 00067: val_loss did not improve from 0.46645\n",
      "Epoch 68/100\n",
      " - 0s - loss: 0.4199 - accuracy: 0.7923 - val_loss: 0.4754 - val_accuracy: 0.7886\n",
      "\n",
      "Epoch 00068: val_loss did not improve from 0.46645\n",
      "Epoch 69/100\n",
      " - 0s - loss: 0.4178 - accuracy: 0.8004 - val_loss: 0.4823 - val_accuracy: 0.7642\n",
      "\n",
      "Epoch 00069: val_loss did not improve from 0.46645\n",
      "Epoch 70/100\n",
      " - 0s - loss: 0.4185 - accuracy: 0.8024 - val_loss: 0.4702 - val_accuracy: 0.7886\n",
      "\n",
      "Epoch 00070: val_loss did not improve from 0.46645\n",
      "Epoch 71/100\n",
      " - 0s - loss: 0.4167 - accuracy: 0.8065 - val_loss: 0.4804 - val_accuracy: 0.7724\n",
      "\n",
      "Epoch 00071: val_loss did not improve from 0.46645\n",
      "Epoch 72/100\n",
      " - 0s - loss: 0.4172 - accuracy: 0.8086 - val_loss: 0.4781 - val_accuracy: 0.7805\n",
      "\n",
      "Epoch 00072: val_loss did not improve from 0.46645\n",
      "Epoch 73/100\n",
      " - 0s - loss: 0.4153 - accuracy: 0.8106 - val_loss: 0.4777 - val_accuracy: 0.7805\n",
      "\n",
      "Epoch 00073: val_loss did not improve from 0.46645\n",
      "Epoch 74/100\n",
      " - 0s - loss: 0.4153 - accuracy: 0.8065 - val_loss: 0.4732 - val_accuracy: 0.7805\n",
      "\n",
      "Epoch 00074: val_loss did not improve from 0.46645\n",
      "Epoch 75/100\n",
      " - 0s - loss: 0.4148 - accuracy: 0.8065 - val_loss: 0.4789 - val_accuracy: 0.7967\n",
      "\n",
      "Epoch 00075: val_loss did not improve from 0.46645\n",
      "Epoch 76/100\n",
      " - 0s - loss: 0.4128 - accuracy: 0.8045 - val_loss: 0.4762 - val_accuracy: 0.7805\n",
      "\n",
      "Epoch 00076: val_loss did not improve from 0.46645\n",
      "Epoch 77/100\n",
      " - 0s - loss: 0.4116 - accuracy: 0.8045 - val_loss: 0.4761 - val_accuracy: 0.7724\n",
      "\n",
      "Epoch 00077: val_loss did not improve from 0.46645\n",
      "Epoch 78/100\n",
      " - 0s - loss: 0.4116 - accuracy: 0.8004 - val_loss: 0.4780 - val_accuracy: 0.7886\n",
      "\n",
      "Epoch 00078: val_loss did not improve from 0.46645\n",
      "Epoch 79/100\n",
      " - 0s - loss: 0.4106 - accuracy: 0.8004 - val_loss: 0.4805 - val_accuracy: 0.7886\n",
      "\n",
      "Epoch 00079: val_loss did not improve from 0.46645\n",
      "Epoch 80/100\n",
      " - 0s - loss: 0.4099 - accuracy: 0.8106 - val_loss: 0.4771 - val_accuracy: 0.7886\n",
      "\n",
      "Epoch 00080: val_loss did not improve from 0.46645\n",
      "Epoch 81/100\n",
      " - 0s - loss: 0.4113 - accuracy: 0.7984 - val_loss: 0.4852 - val_accuracy: 0.7724\n",
      "\n",
      "Epoch 00081: val_loss did not improve from 0.46645\n",
      "Epoch 82/100\n",
      " - 0s - loss: 0.4082 - accuracy: 0.8045 - val_loss: 0.4717 - val_accuracy: 0.7642\n",
      "\n",
      "Epoch 00082: val_loss did not improve from 0.46645\n",
      "Epoch 83/100\n",
      " - 0s - loss: 0.4070 - accuracy: 0.8045 - val_loss: 0.4758 - val_accuracy: 0.7805\n",
      "\n",
      "Epoch 00083: val_loss did not improve from 0.46645\n",
      "Epoch 84/100\n",
      " - 0s - loss: 0.4067 - accuracy: 0.8045 - val_loss: 0.4780 - val_accuracy: 0.7805\n",
      "\n",
      "Epoch 00084: val_loss did not improve from 0.46645\n",
      "Epoch 85/100\n",
      " - 0s - loss: 0.4047 - accuracy: 0.8045 - val_loss: 0.4692 - val_accuracy: 0.7724\n",
      "\n",
      "Epoch 00085: val_loss did not improve from 0.46645\n",
      "Epoch 86/100\n",
      " - 0s - loss: 0.4055 - accuracy: 0.8065 - val_loss: 0.4786 - val_accuracy: 0.7886\n",
      "\n",
      "Epoch 00086: val_loss did not improve from 0.46645\n",
      "Epoch 87/100\n",
      " - 0s - loss: 0.4036 - accuracy: 0.8045 - val_loss: 0.4815 - val_accuracy: 0.7886\n",
      "\n",
      "Epoch 00087: val_loss did not improve from 0.46645\n",
      "Epoch 88/100\n",
      " - 0s - loss: 0.4026 - accuracy: 0.8024 - val_loss: 0.4814 - val_accuracy: 0.7805\n",
      "\n",
      "Epoch 00088: val_loss did not improve from 0.46645\n",
      "Epoch 89/100\n",
      " - 0s - loss: 0.4023 - accuracy: 0.8065 - val_loss: 0.4752 - val_accuracy: 0.7805\n",
      "\n",
      "Epoch 00089: val_loss did not improve from 0.46645\n",
      "Epoch 90/100\n",
      " - 0s - loss: 0.4044 - accuracy: 0.8126 - val_loss: 0.4766 - val_accuracy: 0.7724\n",
      "\n",
      "Epoch 00090: val_loss did not improve from 0.46645\n",
      "Epoch 91/100\n",
      " - 0s - loss: 0.4045 - accuracy: 0.7882 - val_loss: 0.4768 - val_accuracy: 0.7967\n",
      "\n",
      "Epoch 00091: val_loss did not improve from 0.46645\n",
      "Epoch 92/100\n",
      " - 0s - loss: 0.3996 - accuracy: 0.8024 - val_loss: 0.4751 - val_accuracy: 0.7805\n",
      "\n",
      "Epoch 00092: val_loss did not improve from 0.46645\n",
      "Epoch 93/100\n",
      " - 0s - loss: 0.3994 - accuracy: 0.8065 - val_loss: 0.4778 - val_accuracy: 0.7886\n",
      "\n",
      "Epoch 00093: val_loss did not improve from 0.46645\n",
      "Epoch 94/100\n",
      " - 0s - loss: 0.3993 - accuracy: 0.8024 - val_loss: 0.4676 - val_accuracy: 0.7805\n",
      "\n",
      "Epoch 00094: val_loss did not improve from 0.46645\n",
      "Epoch 95/100\n",
      " - 0s - loss: 0.3989 - accuracy: 0.7984 - val_loss: 0.4958 - val_accuracy: 0.7805\n",
      "\n",
      "Epoch 00095: val_loss did not improve from 0.46645\n",
      "Epoch 96/100\n",
      " - 0s - loss: 0.3999 - accuracy: 0.7943 - val_loss: 0.4800 - val_accuracy: 0.7967\n",
      "\n",
      "Epoch 00096: val_loss did not improve from 0.46645\n",
      "Epoch 97/100\n",
      " - 0s - loss: 0.3970 - accuracy: 0.8045 - val_loss: 0.4853 - val_accuracy: 0.7724\n",
      "\n",
      "Epoch 00097: val_loss did not improve from 0.46645\n",
      "Epoch 98/100\n",
      " - 0s - loss: 0.3970 - accuracy: 0.8045 - val_loss: 0.4840 - val_accuracy: 0.7805\n",
      "\n",
      "Epoch 00098: val_loss did not improve from 0.46645\n",
      "Epoch 99/100\n",
      " - 0s - loss: 0.3949 - accuracy: 0.8086 - val_loss: 0.4754 - val_accuracy: 0.7886\n",
      "\n",
      "Epoch 00099: val_loss did not improve from 0.46645\n",
      "Epoch 100/100\n",
      " - 0s - loss: 0.3941 - accuracy: 0.8045 - val_loss: 0.4838 - val_accuracy: 0.8049\n",
      "\n",
      "Epoch 00100: val_loss did not improve from 0.46645\n"
     ]
    },
    {
     "data": {
      "text/plain": [
       "<keras.callbacks.callbacks.History at 0x26ba163ea48>"
      ]
     },
     "execution_count": 26,
     "metadata": {},
     "output_type": "execute_result"
    }
   ],
   "source": [
    "# 모델 학습\n",
    "model.fit(X_train, y_train, epochs=100, batch_size=30, verbose=2,\n",
    "          validation_split=0.2, callbacks=[checkpointer])"
   ]
  },
  {
   "cell_type": "code",
   "execution_count": 27,
   "metadata": {},
   "outputs": [],
   "source": [
    "from keras.models import load_model\n",
    "model_deep = load_model(\"model/diabetes_deep.hdf5\")"
   ]
  },
  {
   "cell_type": "code",
   "execution_count": 28,
   "metadata": {},
   "outputs": [
    {
     "name": "stdout",
     "output_type": "stream",
     "text": [
      "154/154 [==============================] - 0s 19us/step\n"
     ]
    },
    {
     "data": {
      "text/plain": [
       "0.798701286315918"
      ]
     },
     "execution_count": 28,
     "metadata": {},
     "output_type": "execute_result"
    }
   ],
   "source": [
    "model.evaluate(X_test, y_test)[1]"
   ]
  },
  {
   "cell_type": "code",
   "execution_count": 47,
   "metadata": {},
   "outputs": [],
   "source": [
    "test_data = np.array([183.0,72.0,35.4,50]).reshape(1, 4)"
   ]
  },
  {
   "cell_type": "code",
   "execution_count": 48,
   "metadata": {},
   "outputs": [],
   "source": [
    "# test_data = np.array([60.0,10.0,1.4,1]).reshape(1, 4)"
   ]
  },
  {
   "cell_type": "code",
   "execution_count": 55,
   "metadata": {},
   "outputs": [
    {
     "data": {
      "text/plain": [
       "array([1])"
      ]
     },
     "execution_count": 55,
     "metadata": {},
     "output_type": "execute_result"
    }
   ],
   "source": [
    "model_deep.predict_classes(test_data)[0]"
   ]
  },
  {
   "cell_type": "code",
   "execution_count": 56,
   "metadata": {},
   "outputs": [
    {
     "data": {
      "text/plain": [
       "0"
      ]
     },
     "execution_count": 56,
     "metadata": {},
     "output_type": "execute_result"
    }
   ],
   "source": [
    "np.argmax(model_deep.predict(test_data)[0])"
   ]
  },
  {
   "cell_type": "code",
   "execution_count": 46,
   "metadata": {},
   "outputs": [
    {
     "data": {
      "text/html": [
       "<div>\n",
       "<style scoped>\n",
       "    .dataframe tbody tr th:only-of-type {\n",
       "        vertical-align: middle;\n",
       "    }\n",
       "\n",
       "    .dataframe tbody tr th {\n",
       "        vertical-align: top;\n",
       "    }\n",
       "\n",
       "    .dataframe thead th {\n",
       "        text-align: right;\n",
       "    }\n",
       "</style>\n",
       "<table border=\"1\" class=\"dataframe\">\n",
       "  <thead>\n",
       "    <tr style=\"text-align: right;\">\n",
       "      <th></th>\n",
       "      <th>Pregnancies</th>\n",
       "      <th>Glucose</th>\n",
       "      <th>BloodPressure</th>\n",
       "      <th>SkinThickness</th>\n",
       "      <th>Insulin</th>\n",
       "      <th>BMI</th>\n",
       "      <th>DiabetesPedigreeFunction</th>\n",
       "      <th>Age</th>\n",
       "      <th>Outcome</th>\n",
       "    </tr>\n",
       "  </thead>\n",
       "  <tbody>\n",
       "    <tr>\n",
       "      <th>0</th>\n",
       "      <td>6</td>\n",
       "      <td>148.0</td>\n",
       "      <td>72.0</td>\n",
       "      <td>35.000000</td>\n",
       "      <td>79.799479</td>\n",
       "      <td>33.6</td>\n",
       "      <td>0.627</td>\n",
       "      <td>50</td>\n",
       "      <td>1</td>\n",
       "    </tr>\n",
       "    <tr>\n",
       "      <th>1</th>\n",
       "      <td>1</td>\n",
       "      <td>85.0</td>\n",
       "      <td>66.0</td>\n",
       "      <td>29.000000</td>\n",
       "      <td>79.799479</td>\n",
       "      <td>26.6</td>\n",
       "      <td>0.351</td>\n",
       "      <td>31</td>\n",
       "      <td>0</td>\n",
       "    </tr>\n",
       "    <tr>\n",
       "      <th>2</th>\n",
       "      <td>8</td>\n",
       "      <td>183.0</td>\n",
       "      <td>64.0</td>\n",
       "      <td>20.536458</td>\n",
       "      <td>79.799479</td>\n",
       "      <td>23.3</td>\n",
       "      <td>0.672</td>\n",
       "      <td>32</td>\n",
       "      <td>1</td>\n",
       "    </tr>\n",
       "    <tr>\n",
       "      <th>3</th>\n",
       "      <td>1</td>\n",
       "      <td>89.0</td>\n",
       "      <td>66.0</td>\n",
       "      <td>23.000000</td>\n",
       "      <td>94.000000</td>\n",
       "      <td>28.1</td>\n",
       "      <td>0.167</td>\n",
       "      <td>21</td>\n",
       "      <td>0</td>\n",
       "    </tr>\n",
       "    <tr>\n",
       "      <th>4</th>\n",
       "      <td>0</td>\n",
       "      <td>137.0</td>\n",
       "      <td>40.0</td>\n",
       "      <td>35.000000</td>\n",
       "      <td>168.000000</td>\n",
       "      <td>43.1</td>\n",
       "      <td>2.288</td>\n",
       "      <td>33</td>\n",
       "      <td>1</td>\n",
       "    </tr>\n",
       "  </tbody>\n",
       "</table>\n",
       "</div>"
      ],
      "text/plain": [
       "   Pregnancies  Glucose  BloodPressure  SkinThickness     Insulin   BMI  \\\n",
       "0            6    148.0           72.0      35.000000   79.799479  33.6   \n",
       "1            1     85.0           66.0      29.000000   79.799479  26.6   \n",
       "2            8    183.0           64.0      20.536458   79.799479  23.3   \n",
       "3            1     89.0           66.0      23.000000   94.000000  28.1   \n",
       "4            0    137.0           40.0      35.000000  168.000000  43.1   \n",
       "\n",
       "   DiabetesPedigreeFunction  Age  Outcome  \n",
       "0                     0.627   50        1  \n",
       "1                     0.351   31        0  \n",
       "2                     0.672   32        1  \n",
       "3                     0.167   21        0  \n",
       "4                     2.288   33        1  "
      ]
     },
     "execution_count": 46,
     "metadata": {},
     "output_type": "execute_result"
    }
   ],
   "source": [
    "diabetes_data.head()"
   ]
  },
  {
   "cell_type": "code",
   "execution_count": null,
   "metadata": {},
   "outputs": [],
   "source": []
  }
 ],
 "metadata": {
  "kernelspec": {
   "display_name": "Python 3",
   "language": "python",
   "name": "python3"
  },
  "language_info": {
   "codemirror_mode": {
    "name": "ipython",
    "version": 3
   },
   "file_extension": ".py",
   "mimetype": "text/x-python",
   "name": "python",
   "nbconvert_exporter": "python",
   "pygments_lexer": "ipython3",
   "version": "3.7.7"
  }
 },
 "nbformat": 4,
 "nbformat_minor": 4
}
